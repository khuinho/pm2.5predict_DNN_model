{
  "nbformat": 4,
  "nbformat_minor": 0,
  "metadata": {
    "colab": {
      "name": "3_yaer_model.ipynb",
      "provenance": [],
      "collapsed_sections": [],
      "toc_visible": true
    },
    "kernelspec": {
      "name": "python3",
      "display_name": "Python 3"
    },
    "language_info": {
      "name": "python"
    }
  },
  "cells": [
    {
      "cell_type": "code",
      "metadata": {
        "id": "lA-rHDx6ahLl",
        "colab": {
          "base_uri": "https://localhost:8080/"
        },
        "outputId": "da2248f7-94df-444c-ffcb-74b065238731"
      },
      "source": [
        "from google.colab import drive\n",
        "drive.mount('/content/drive')"
      ],
      "execution_count": null,
      "outputs": [
        {
          "output_type": "stream",
          "name": "stdout",
          "text": [
            "Mounted at /content/drive\n"
          ]
        }
      ]
    },
    {
      "cell_type": "markdown",
      "metadata": {
        "id": "16bw7MDOEDwo"
      },
      "source": [
        "17년, 19년, 20년 3개년 월별 데이터 확보\n",
        "16년, 18년 분기별 데이터 확보"
      ]
    },
    {
      "cell_type": "code",
      "metadata": {
        "id": "C1_0GgIXaiVq"
      },
      "source": [
        "import tensorflow as tf\n",
        "import numpy as np\n",
        "import pandas as pd\n",
        "import matplotlib.pyplot as plt\n",
        "import seaborn as sns\n",
        "from tensorflow.keras.models import Sequential\n",
        "from tensorflow.keras.layers import Dense\n",
        "from tensorflow.keras.layers import Flatten\n",
        "from tensorflow.keras.utils import plot_model\n",
        "import seaborn as sns\n",
        "from tensorflow.python.keras.models import load_model\n",
        "from tensorflow.keras.layers import BatchNormalization,Dropout"
      ],
      "execution_count": null,
      "outputs": []
    },
    {
      "cell_type": "code",
      "metadata": {
        "id": "3Ow5IeYcaqDE",
        "colab": {
          "base_uri": "https://localhost:8080/",
          "height": 220
        },
        "outputId": "bb0e9a98-05f5-421e-815f-9e37656d1055"
      },
      "source": [
        "mon1= '/content/drive/MyDrive/pm_data/1월.csv'\n",
        "\n",
        "data_1701 = pd.read_csv('/content/drive/MyDrive/pm_data/data/17/pm_1701.csv',encoding='CP949')\n",
        "data_1702 = pd.read_csv('/content/drive/MyDrive/pm_data/data/17/pm_1702.csv',encoding='CP949')\n",
        "data_1703 = pd.read_csv('/content/drive/MyDrive/pm_data/data/17/pm_1703.csv',encoding='CP949')\n",
        "data_1704 = pd.read_csv('/content/drive/MyDrive/pm_data/data/17/pm_1704.csv',encoding='CP949')\n",
        "data_1705 = pd.read_csv('/content/drive/MyDrive/pm_data/data/17/pm_1705.csv',encoding='CP949')\n",
        "data_1706 = pd.read_csv('/content/drive/MyDrive/pm_data/data/17/pm_1706.csv',encoding='CP949')\n",
        "data_1707 = pd.read_csv('/content/drive/MyDrive/pm_data/data/17/pm_1707.csv',encoding='CP949')\n",
        "data_1708 = pd.read_csv('/content/drive/MyDrive/pm_data/data/17/pm_1708.csv',encoding='CP949')\n",
        "data_1709 = pd.read_csv('/content/drive/MyDrive/pm_data/data/17/pm_1709.csv',encoding='CP949')\n",
        "data_1710 = pd.read_csv('/content/drive/MyDrive/pm_data/data/17/pm_1710.csv',encoding='CP949')\n",
        "data_1711 = pd.read_csv('/content/drive/MyDrive/pm_data/data/17/pm_1711.csv',encoding='CP949')\n",
        "data_1712 = pd.read_csv('/content/drive/MyDrive/pm_data/data/17/pm_1712.csv',encoding='CP949')\n",
        "\n",
        "data_1901 = pd.read_csv('/content/drive/MyDrive/pm_data/data/19/pm_1901.csv',encoding='CP949')\n",
        "data_1902 = pd.read_csv('/content/drive/MyDrive/pm_data/data/19/pm_1902.csv',encoding='CP949')\n",
        "data_1903 = pd.read_csv('/content/drive/MyDrive/pm_data/data/19/pm_1903.csv',encoding='CP949')\n",
        "data_1904 = pd.read_csv('/content/drive/MyDrive/pm_data/data/19/pm_1904.csv',encoding='CP949')\n",
        "data_1905 = pd.read_csv('/content/drive/MyDrive/pm_data/data/19/pm_1905.csv',encoding='CP949')\n",
        "data_1906 = pd.read_csv('/content/drive/MyDrive/pm_data/data/19/pm_1906.csv',encoding='CP949')\n",
        "data_1907 = pd.read_csv('/content/drive/MyDrive/pm_data/data/19/pm_1907.csv',encoding='CP949')\n",
        "data_1908 = pd.read_csv('/content/drive/MyDrive/pm_data/data/19/pm_1908.csv',encoding='CP949')\n",
        "data_1909 = pd.read_csv('/content/drive/MyDrive/pm_data/data/19/pm_1909.csv',encoding='CP949')\n",
        "data_1910 = pd.read_csv('/content/drive/MyDrive/pm_data/data/19/pm_1910.csv',encoding='CP949')\n",
        "data_1911 = pd.read_csv('/content/drive/MyDrive/pm_data/data/19/pm_1911.csv',encoding='CP949')\n",
        "data_1912 = pd.read_csv('/content/drive/MyDrive/pm_data/data/19/pm_1912.csv',encoding='CP949')\n",
        "\n",
        "data_2001 = pd.read_csv('/content/drive/MyDrive/pm_data/data/20/pm_2001.csv',encoding='CP949')\n",
        "data_2002 = pd.read_csv('/content/drive/MyDrive/pm_data/data/20/pm_2002.csv',encoding='CP949') \n",
        "data_2003 = pd.read_csv('/content/drive/MyDrive/pm_data/data/20/pm_2003.csv',encoding='CP949')\n",
        "data_2004 = pd.read_csv('/content/drive/MyDrive/pm_data/data/20/pm_2004.csv',encoding='CP949')\n",
        "data_2005 = pd.read_csv('/content/drive/MyDrive/pm_data/data/20/pm_2005.csv',encoding='CP949')\n",
        "data_2006 = pd.read_csv('/content/drive/MyDrive/pm_data/data/20/pm_2006.csv',encoding='CP949')\n",
        "data_2007 = pd.read_csv('/content/drive/MyDrive/pm_data/data/20/pm_2007.csv',encoding='CP949')\n",
        "data_2008 = pd.read_csv('/content/drive/MyDrive/pm_data/data/20/pm_2008.csv',encoding='CP949')\n",
        "data_2009 = pd.read_csv('/content/drive/MyDrive/pm_data/data/20/pm_2009.csv',encoding='CP949')\n",
        "data_2010 = pd.read_csv('/content/drive/MyDrive/pm_data/data/20/pm_2010.csv',encoding='CP949')\n",
        "data_2011 = pd.read_csv('/content/drive/MyDrive/pm_data/data/20/pm_2011.csv',encoding='CP949')\n",
        "data_2012 = pd.read_csv('/content/drive/MyDrive/pm_data/data/20/pm_2012.csv',encoding='CP949')\n",
        "\n",
        "'''\n",
        "data_1701\n",
        "data_1702\n",
        "data_1703\n",
        "data_1704\n",
        "data_1705\n",
        "data_1706\n",
        "data_1707\n",
        "data_1708\n",
        "data_1709\n",
        "data_1710 \n",
        "data_1711\n",
        "data_1712\n",
        "\n",
        "data_1901\n",
        "data_1902\n",
        "data_1903\n",
        "data_1904\n",
        "data_1905\n",
        "data_1906\n",
        "data_1907\n",
        "data_1908\n",
        "data_1909\n",
        "data_1910 \n",
        "data_1911\n",
        "data_1912\n",
        "\n",
        "data_2001\n",
        "data_2002\n",
        "data_2003\n",
        "data_2004\n",
        "data_2005\n",
        "data_2006\n",
        "data_2007\n",
        "data_2008\n",
        "data_2009\n",
        "data_2010 \n",
        "data_2011\n",
        "data_2012\n",
        "\n",
        "data_1701 = data_1701\n",
        "data_1702 = data_1702\n",
        "data_1703 = data_1703\n",
        "data_1704 = data_1704\n",
        "data_1705 = data_1705\n",
        "data_1706 = data_1706\n",
        "data_1707 = data_1707\n",
        "data_1708 = data_1708\n",
        "data_1709 = data_1709\n",
        "data_1710 = data_1710\n",
        "data_1711 = data_1711\n",
        "data_1712 = data_1712\n",
        "\n",
        "data_1901 = data_1901\n",
        "data_1902 = data_1902\n",
        "data_1903 = data_1903\n",
        "data_1904 = data_1904\n",
        "data_1905 = data_1905\n",
        "data_1906 = data_1906\n",
        "data_1907 = data_1907\n",
        "data_1908 = data_1908\n",
        "data_1909 = data_1909\n",
        "data_1910 = data_1910\n",
        "data_1911 = data_1911\n",
        "data_1912 = data_1912\n",
        "\n",
        "data_2001 = data_2001\n",
        "data_2002 = data_2002\n",
        "data_2003 = data_2003\n",
        "data_2004 = data_2004\n",
        "data_2005 = data_2005\n",
        "data_2006 = data_2006\n",
        "data_2007 = data_2007\n",
        "data_2008 = data_2008\n",
        "data_2009 = data_2009\n",
        "data_2010 = data_2010\n",
        "data_2011 = data_2011\n",
        "data_2012 = data_2012\n",
        "'''\n"
      ],
      "execution_count": null,
      "outputs": [
        {
          "output_type": "stream",
          "name": "stderr",
          "text": [
            "/usr/local/lib/python3.7/dist-packages/IPython/core/interactiveshell.py:2718: DtypeWarning: Columns (0,1,3,11) have mixed types.Specify dtype option on import or set low_memory=False.\n",
            "  interactivity=interactivity, compiler=compiler, result=result)\n",
            "/usr/local/lib/python3.7/dist-packages/IPython/core/interactiveshell.py:2718: DtypeWarning: Columns (0,1,3) have mixed types.Specify dtype option on import or set low_memory=False.\n",
            "  interactivity=interactivity, compiler=compiler, result=result)\n"
          ]
        },
        {
          "output_type": "execute_result",
          "data": {
            "application/vnd.google.colaboratory.intrinsic+json": {
              "type": "string"
            },
            "text/plain": [
              "'\\ndata_1701\\ndata_1702\\ndata_1703\\ndata_1704\\ndata_1705\\ndata_1706\\ndata_1707\\ndata_1708\\ndata_1709\\ndata_1710 \\ndata_1711\\ndata_1712\\n\\ndata_1901\\ndata_1902\\ndata_1903\\ndata_1904\\ndata_1905\\ndata_1906\\ndata_1907\\ndata_1908\\ndata_1909\\ndata_1910 \\ndata_1911\\ndata_1912\\n\\ndata_2001\\ndata_2002\\ndata_2003\\ndata_2004\\ndata_2005\\ndata_2006\\ndata_2007\\ndata_2008\\ndata_2009\\ndata_2010 \\ndata_2011\\ndata_2012\\n\\ndata_1701 = data_1701\\ndata_1702 = data_1702\\ndata_1703 = data_1703\\ndata_1704 = data_1704\\ndata_1705 = data_1705\\ndata_1706 = data_1706\\ndata_1707 = data_1707\\ndata_1708 = data_1708\\ndata_1709 = data_1709\\ndata_1710 = data_1710\\ndata_1711 = data_1711\\ndata_1712 = data_1712\\n\\ndata_1901 = data_1901\\ndata_1902 = data_1902\\ndata_1903 = data_1903\\ndata_1904 = data_1904\\ndata_1905 = data_1905\\ndata_1906 = data_1906\\ndata_1907 = data_1907\\ndata_1908 = data_1908\\ndata_1909 = data_1909\\ndata_1910 = data_1910\\ndata_1911 = data_1911\\ndata_1912 = data_1912\\n\\ndata_2001 = data_2001\\ndata_2002 = data_2002\\ndata_2003 = data_2003\\ndata_2004 = data_2004\\ndata_2005 = data_2005\\ndata_2006 = data_2006\\ndata_2007 = data_2007\\ndata_2008 = data_2008\\ndata_2009 = data_2009\\ndata_2010 = data_2010\\ndata_2011 = data_2011\\ndata_2012 = data_2012\\n'"
            ]
          },
          "metadata": {},
          "execution_count": 3
        }
      ]
    },
    {
      "cell_type": "markdown",
      "metadata": {
        "id": "G5x0wkwga0T4"
      },
      "source": [
        "# 데이터 기본 전처리(빈칸제거 및 index 초기화)"
      ]
    },
    {
      "cell_type": "code",
      "metadata": {
        "id": "-5b2vf8pJess"
      },
      "source": [
        "#개별 데이터 정리\n",
        "\n",
        "data_1701 = data_1701.dropna()\n",
        "data_1702 = data_1702.dropna()\n",
        "data_1703 = data_1703.dropna()\n",
        "data_1704 = data_1704.dropna()\n",
        "data_1705 = data_1705.dropna()\n",
        "data_1706 = data_1706.dropna()\n",
        "data_1707 = data_1707.dropna()\n",
        "data_1708 = data_1708.dropna()\n",
        "data_1709 = data_1709.dropna()\n",
        "data_1710 = data_1710.dropna()\n",
        "data_1711 = data_1711.dropna()\n",
        "data_1712 = data_1712.dropna()\n",
        "\n",
        "data_1901 = data_1901.dropna()\n",
        "data_1902 = data_1902.dropna()\n",
        "data_1903 = data_1903.dropna()\n",
        "data_1904 = data_1904.dropna()\n",
        "data_1905 = data_1905.dropna()\n",
        "data_1906 = data_1906.dropna()\n",
        "data_1907 = data_1907.dropna()\n",
        "data_1908 = data_1908.dropna()\n",
        "data_1909 = data_1909.dropna()\n",
        "data_1910 = data_1910.dropna()\n",
        "data_1911 = data_1911.dropna()\n",
        "data_1912 = data_1912.dropna()\n",
        "\n",
        "data_2001 = data_2001.dropna()\n",
        "data_2002 = data_2002.dropna()\n",
        "data_2003 = data_2003.dropna()\n",
        "data_2004 = data_2004.dropna()\n",
        "data_2005 = data_2005.dropna()\n",
        "data_2006 = data_2006.dropna()\n",
        "data_2007 = data_2007.dropna()\n",
        "data_2008 = data_2008.dropna()\n",
        "data_2009 = data_2009.dropna()\n",
        "data_2010 = data_2010.dropna()\n",
        "data_2011 = data_2011.dropna()\n",
        "data_2012 = data_2012.dropna()\n",
        "\n",
        "data_1701 = data_1701.reset_index()\n",
        "data_1702 = data_1702.reset_index()\n",
        "data_1703 = data_1703.reset_index()\n",
        "data_1704 = data_1704.reset_index()\n",
        "data_1705 = data_1705.reset_index()\n",
        "data_1706 = data_1706.reset_index()\n",
        "data_1707 = data_1707.reset_index()\n",
        "data_1708 = data_1708.reset_index()\n",
        "data_1709 = data_1709.reset_index()\n",
        "data_1710 = data_1710.reset_index()\n",
        "data_1711 = data_1711.reset_index()\n",
        "data_1712 = data_1712.reset_index()\n",
        "\n",
        "data_1901 = data_1901.reset_index()\n",
        "data_1902 = data_1902.reset_index()\n",
        "data_1903 = data_1903.reset_index()\n",
        "data_1904 = data_1904.reset_index()\n",
        "data_1905 = data_1905.reset_index()\n",
        "data_1906 = data_1906.reset_index()\n",
        "data_1907 = data_1907.reset_index()\n",
        "data_1908 = data_1908.reset_index()\n",
        "data_1909 = data_1909.reset_index()\n",
        "data_1910 = data_1910.reset_index()\n",
        "data_1911 = data_1911.reset_index()\n",
        "data_1912 = data_1912.reset_index()\n",
        "\n",
        "data_2001 = data_2001.reset_index()\n",
        "data_2002 = data_2002.reset_index()\n",
        "data_2003 = data_2003.reset_index()\n",
        "data_2004 = data_2004.reset_index()\n",
        "data_2005 = data_2005.reset_index()\n",
        "data_2006 = data_2006.reset_index()\n",
        "data_2007 = data_2007.reset_index()\n",
        "data_2008 = data_2008.reset_index()\n",
        "data_2009 = data_2009.reset_index()\n",
        "data_2010 = data_2010.reset_index()\n",
        "data_2011 = data_2011.reset_index()\n",
        "data_2012 = data_2012.reset_index()\n",
        "\n",
        "data_1701 = data_1701.drop(['index','지역','망','측정소코드','측정소명','측정일시','주소'],axis=1)\n",
        "data_1702 = data_1702.drop(['index','지역','망','측정소코드','측정소명','측정일시','주소'],axis=1)\n",
        "data_1703 = data_1703.drop(['index','지역','망','측정소코드','측정소명','측정일시','주소'],axis=1)\n",
        "data_1704 = data_1704.drop(['index','지역','망','측정소코드','측정소명','측정일시','주소'],axis=1)\n",
        "data_1705 = data_1705.drop(['index','지역','망','측정소코드','측정소명','측정일시','주소'],axis=1)\n",
        "data_1706 = data_1706.drop(['index','지역','망','측정소코드','측정소명','측정일시','주소'],axis=1)\n",
        "data_1707 = data_1707.drop(['index','지역','망','측정소코드','측정소명','측정일시','주소'],axis=1)\n",
        "data_1708 = data_1708.drop(['index','지역','망','측정소코드','측정소명','측정일시','주소'],axis=1)\n",
        "data_1709 = data_1709.drop(['index','지역','망','측정소코드','측정소명','측정일시','주소'],axis=1)\n",
        "data_1710 = data_1710.drop(['index','지역','망','측정소코드','측정소명','측정일시','주소'],axis=1)\n",
        "data_1711 = data_1711.drop(['index','지역','망','측정소코드','측정소명','측정일시','주소'],axis=1)\n",
        "data_1712 = data_1712.drop(['index','지역','망','측정소코드','측정소명','측정일시','주소'],axis=1)\n",
        "\n",
        "data_1901 = data_1901.drop(['index','지역','망','측정소코드','측정소명','측정일시','주소'],axis=1)\n",
        "data_1902 = data_1902.drop(['index','지역','망','측정소코드','측정소명','측정일시','주소'],axis=1)\n",
        "data_1903 = data_1903.drop(['index','지역','망','측정소코드','측정소명','측정일시','주소'],axis=1)\n",
        "data_1904 = data_1904.drop(['index','지역','망','측정소코드','측정소명','측정일시','주소'],axis=1)\n",
        "data_1905 = data_1905.drop(['index','지역','망','측정소코드','측정소명','측정일시','주소'],axis=1)\n",
        "data_1906 = data_1906.drop(['index','지역','망','측정소코드','측정소명','측정일시','주소'],axis=1)\n",
        "data_1907 = data_1907.drop(['index','지역','망','측정소코드','측정소명','측정일시','주소'],axis=1)\n",
        "data_1908 = data_1908.drop(['index','지역','망','측정소코드','측정소명','측정일시','주소'],axis=1)\n",
        "data_1909 = data_1909.drop(['index','지역','망','측정소코드','측정소명','측정일시','주소'],axis=1)\n",
        "data_1910 = data_1910.drop(['index','지역','망','측정소코드','측정소명','측정일시','주소'],axis=1)\n",
        "data_1911 = data_1911.drop(['index','지역','망','측정소코드','측정소명','측정일시','주소'],axis=1)\n",
        "data_1912 = data_1912.drop(['index','지역','망','측정소코드','측정소명','측정일시','주소'],axis=1)\n",
        "\n",
        "data_2001 = data_2001.drop(['index','지역','망','측정소코드','측정소명','측정일시','주소','Time'],axis=1)\n",
        "data_2002 = data_2002.drop(['index','지역','망','측정소코드','측정소명','측정일시','Time'],axis=1)\n",
        "data_2003 = data_2003.drop(['index','지역','망','측정소코드','측정소명','측정일시','주소','Time'],axis=1)\n",
        "data_2004 = data_2004.drop(['index','지역','망','측정소코드','측정소명','측정일시','Time'],axis=1)\n",
        "data_2005 = data_2005.drop(['index','지역','망','측정소코드','측정소명','측정일시','주소','Time'],axis=1)\n",
        "data_2006 = data_2006.drop(['index','지역','망','측정소코드','측정소명','측정일시','주소','Time'],axis=1)\n",
        "data_2007 = data_2007.drop(['index','지역','망','측정소코드','측정소명','측정일시','주소','Time'],axis=1)\n",
        "data_2008 = data_2008.drop(['index','지역','망','측정소코드','측정소명','측정일시','주소','Time'],axis=1)\n",
        "data_2009 = data_2009.drop(['index','지역','망','측정소코드','측정소명','측정일시','주소','Time'],axis=1)\n",
        "data_2010 = data_2010.drop(['index','지역','망','측정소코드','측정소명','측정일시','주소','Time'],axis=1)\n",
        "data_2011 = data_2011.drop(['index','지역','망','측정소코드','측정소명','측정일시','주소','Time'],axis=1)\n",
        "data_2012 = data_2012.drop(['index','지역','망','측정소코드','측정소명','측정일시','주소','Time'],axis=1)"
      ],
      "execution_count": null,
      "outputs": []
    },
    {
      "cell_type": "code",
      "metadata": {
        "id": "5A08eLSYa6hE"
      },
      "source": [
        "#data = pd.concat([mon1,mon2,mon3,mon4,mon5,mon6,mon7,mon8,mon9,mon10,mon11,mon12],ignore_index=True,axis=0)  >>1년 전체\n",
        "data_17 = pd.concat([data_1701,data_1702,data_1703,data_1704,data_1705,data_1706,data_1707,data_1708,data_1709,data_1710,data_1711,data_1712],ignore_index=True,axis=0)\n",
        "data_19 = pd.concat([data_1901,data_1902,data_1903,data_1904,data_1905,data_1906,data_1907,data_1908,data_1909,data_1910,data_1911,data_1912],ignore_index=True,axis=0)\n",
        "data_20 = pd.concat([data_2001,data_2002,data_2003,data_2004,data_2005,data_2006,data_2007,data_2008,data_2009,data_2010,data_2011,data_2012],ignore_index=True,axis=0)\n",
        "\n",
        "data_total =pd.concat([data_17,data_19,data_20],ignore_index=True, axis = 0)\n",
        "\n",
        "data_01 = pd.concat([data_1701,data_1901,data_2001],ignore_index=True,axis = 0)\n",
        "data_02 = pd.concat([data_1702,data_1902,data_2002],ignore_index=True,axis = 0)\n",
        "data_03 = pd.concat([data_1703,data_1903,data_2003],ignore_index=True,axis = 0)\n",
        "data_04 = pd.concat([data_1704,data_1904,data_2004],ignore_index=True,axis = 0)\n",
        "data_05 = pd.concat([data_1705,data_1905,data_2005],ignore_index=True,axis = 0)\n",
        "data_06 = pd.concat([data_1706,data_1906,data_2006],ignore_index=True,axis = 0)\n",
        "data_07 = pd.concat([data_1707,data_1907,data_2007],ignore_index=True,axis = 0)\n",
        "data_08 = pd.concat([data_1708,data_1908,data_2008],ignore_index=True,axis = 0)\n",
        "data_09 = pd.concat([data_1709,data_1909,data_2009],ignore_index=True,axis = 0)\n",
        "data_10 = pd.concat([data_1710,data_1910,data_2010],ignore_index=True,axis = 0)\n",
        "data_11 = pd.concat([data_1711,data_1911,data_2011],ignore_index=True,axis = 0)\n",
        "data_12 = pd.concat([data_1712,data_1912,data_2012],ignore_index=True,axis = 0)"
      ],
      "execution_count": null,
      "outputs": []
    },
    {
      "cell_type": "code",
      "metadata": {
        "colab": {
          "base_uri": "https://localhost:8080/",
          "height": 423
        },
        "id": "28lGVYhGLYDg",
        "outputId": "66706290-48c8-4ec6-fb1a-0d293591395d"
      },
      "source": [
        "data_total"
      ],
      "execution_count": null,
      "outputs": [
        {
          "output_type": "execute_result",
          "data": {
            "text/html": [
              "<div>\n",
              "<style scoped>\n",
              "    .dataframe tbody tr th:only-of-type {\n",
              "        vertical-align: middle;\n",
              "    }\n",
              "\n",
              "    .dataframe tbody tr th {\n",
              "        vertical-align: top;\n",
              "    }\n",
              "\n",
              "    .dataframe thead th {\n",
              "        text-align: right;\n",
              "    }\n",
              "</style>\n",
              "<table border=\"1\" class=\"dataframe\">\n",
              "  <thead>\n",
              "    <tr style=\"text-align: right;\">\n",
              "      <th></th>\n",
              "      <th>SO2</th>\n",
              "      <th>CO</th>\n",
              "      <th>O3</th>\n",
              "      <th>NO2</th>\n",
              "      <th>PM10</th>\n",
              "      <th>PM25</th>\n",
              "    </tr>\n",
              "  </thead>\n",
              "  <tbody>\n",
              "    <tr>\n",
              "      <th>0</th>\n",
              "      <td>0.006</td>\n",
              "      <td>1.3</td>\n",
              "      <td>0.002</td>\n",
              "      <td>0.068</td>\n",
              "      <td>77.0</td>\n",
              "      <td>63.0</td>\n",
              "    </tr>\n",
              "    <tr>\n",
              "      <th>1</th>\n",
              "      <td>0.006</td>\n",
              "      <td>1.4</td>\n",
              "      <td>0.002</td>\n",
              "      <td>0.066</td>\n",
              "      <td>76.0</td>\n",
              "      <td>63.0</td>\n",
              "    </tr>\n",
              "    <tr>\n",
              "      <th>2</th>\n",
              "      <td>0.005</td>\n",
              "      <td>1.2</td>\n",
              "      <td>0.002</td>\n",
              "      <td>0.063</td>\n",
              "      <td>73.0</td>\n",
              "      <td>57.0</td>\n",
              "    </tr>\n",
              "    <tr>\n",
              "      <th>3</th>\n",
              "      <td>0.005</td>\n",
              "      <td>1.1</td>\n",
              "      <td>0.002</td>\n",
              "      <td>0.053</td>\n",
              "      <td>67.0</td>\n",
              "      <td>55.0</td>\n",
              "    </tr>\n",
              "    <tr>\n",
              "      <th>4</th>\n",
              "      <td>0.004</td>\n",
              "      <td>1.1</td>\n",
              "      <td>0.002</td>\n",
              "      <td>0.051</td>\n",
              "      <td>66.0</td>\n",
              "      <td>54.0</td>\n",
              "    </tr>\n",
              "    <tr>\n",
              "      <th>...</th>\n",
              "      <td>...</td>\n",
              "      <td>...</td>\n",
              "      <td>...</td>\n",
              "      <td>...</td>\n",
              "      <td>...</td>\n",
              "      <td>...</td>\n",
              "    </tr>\n",
              "    <tr>\n",
              "      <th>9196380</th>\n",
              "      <td>0.005</td>\n",
              "      <td>0.4</td>\n",
              "      <td>0.036</td>\n",
              "      <td>0.004</td>\n",
              "      <td>20.0</td>\n",
              "      <td>9.0</td>\n",
              "    </tr>\n",
              "    <tr>\n",
              "      <th>9196381</th>\n",
              "      <td>0.004</td>\n",
              "      <td>0.3</td>\n",
              "      <td>0.037</td>\n",
              "      <td>0.003</td>\n",
              "      <td>20.0</td>\n",
              "      <td>10.0</td>\n",
              "    </tr>\n",
              "    <tr>\n",
              "      <th>9196382</th>\n",
              "      <td>0.004</td>\n",
              "      <td>0.3</td>\n",
              "      <td>0.037</td>\n",
              "      <td>0.003</td>\n",
              "      <td>16.0</td>\n",
              "      <td>8.0</td>\n",
              "    </tr>\n",
              "    <tr>\n",
              "      <th>9196383</th>\n",
              "      <td>0.004</td>\n",
              "      <td>0.3</td>\n",
              "      <td>0.037</td>\n",
              "      <td>0.003</td>\n",
              "      <td>14.0</td>\n",
              "      <td>12.0</td>\n",
              "    </tr>\n",
              "    <tr>\n",
              "      <th>9196384</th>\n",
              "      <td>0.005</td>\n",
              "      <td>0.3</td>\n",
              "      <td>0.036</td>\n",
              "      <td>0.004</td>\n",
              "      <td>15.0</td>\n",
              "      <td>8.0</td>\n",
              "    </tr>\n",
              "  </tbody>\n",
              "</table>\n",
              "<p>9196385 rows × 6 columns</p>\n",
              "</div>"
            ],
            "text/plain": [
              "           SO2   CO     O3    NO2  PM10  PM25\n",
              "0        0.006  1.3  0.002  0.068  77.0  63.0\n",
              "1        0.006  1.4  0.002  0.066  76.0  63.0\n",
              "2        0.005  1.2  0.002  0.063  73.0  57.0\n",
              "3        0.005  1.1  0.002  0.053  67.0  55.0\n",
              "4        0.004  1.1  0.002  0.051  66.0  54.0\n",
              "...        ...  ...    ...    ...   ...   ...\n",
              "9196380  0.005  0.4  0.036  0.004  20.0   9.0\n",
              "9196381  0.004  0.3  0.037  0.003  20.0  10.0\n",
              "9196382  0.004  0.3  0.037  0.003  16.0   8.0\n",
              "9196383  0.004  0.3  0.037  0.003  14.0  12.0\n",
              "9196384  0.005  0.3  0.036  0.004  15.0   8.0\n",
              "\n",
              "[9196385 rows x 6 columns]"
            ]
          },
          "metadata": {},
          "execution_count": 7
        }
      ]
    },
    {
      "cell_type": "markdown",
      "metadata": {
        "id": "SScYbsLBHc0B"
      },
      "source": [
        "data_01 = 1월 3년치 data  (data_01 ~data_12)`\n",
        "data_17 = 17년 data  (data_17,data_19,data_20)"
      ]
    },
    {
      "cell_type": "markdown",
      "metadata": {
        "id": "k2coH1PTUiCl"
      },
      "source": [
        "# 상관계수 찾기"
      ]
    },
    {
      "cell_type": "code",
      "metadata": {
        "id": "HowHj-iTQwvt"
      },
      "source": [
        "pm25_corr_2017 = pd.concat([data_1701.corr().PM25,data_1702.corr().PM25,data_1703.corr().PM25,data_1704.corr().PM25,data_1705.corr().PM25,data_1706.corr().PM25,\n",
        "                            data_1707.corr().PM25,data_1708.corr().PM25,data_1709.corr().PM25,data_1710.corr().PM25,data_1711.corr().PM25,data_1712.corr().PM25],axis=1)\n",
        "pm25_corr_2019 = pd.concat([data_1901.corr().PM25,data_1902.corr().PM25,data_1903.corr().PM25,data_1904.corr().PM25,data_1905.corr().PM25,data_1906.corr().PM25,\n",
        "                            data_1907.corr().PM25,data_1908.corr().PM25,data_1909.corr().PM25,data_1910.corr().PM25,data_1911.corr().PM25,data_1912.corr().PM25],axis=1)\n",
        "pm25_corr_2020 = pd.concat([data_2001.corr().PM25,data_2002.corr().PM25,data_2003.corr().PM25,data_2004.corr().PM25,data_2005.corr().PM25,data_2006.corr().PM25,\n",
        "                            data_2007.corr().PM25,data_2008.corr().PM25,data_2009.corr().PM25,data_2010.corr().PM25,data_2011.corr().PM25,data_2012.corr().PM25],axis=1)\n",
        "\n",
        "pm25_corr_2017.columns = ['mon1','mon2','mon3','mon4','mon5','mon6','mon7','mon8','mon9','mon10','mon11','mon12',]\n",
        "pm25_corr_2019.columns = ['mon1','mon2','mon3','mon4','mon5','mon6','mon7','mon8','mon9','mon10','mon11','mon12',]\n",
        "pm25_corr_2020.columns = ['mon1','mon2','mon3','mon4','mon5','mon6','mon7','mon8','mon9','mon10','mon11','mon12',]"
      ],
      "execution_count": null,
      "outputs": []
    },
    {
      "cell_type": "code",
      "metadata": {
        "id": "hKzjJdVpUZB0",
        "colab": {
          "base_uri": "https://localhost:8080/",
          "height": 53
        },
        "outputId": "f5c36ff3-397e-4680-ee3b-e88e3aab9cea"
      },
      "source": [
        "# 상관계수 저장(excel 사용시)\n",
        "'''\n",
        "pm25_corr_2017.to_csv('/content/drive/MyDrive/pm_data/상관관계/2017상관관계.csv')\n",
        "pm25_corr_2019.to_csv('/content/drive/MyDrive/pm_data/상관관계/2019상관관계.csv')\n",
        "pm25_corr_2020.to_csv('/content/drive/MyDrive/pm_data/상관관계/2020상관관계.csv')\n",
        "'''"
      ],
      "execution_count": null,
      "outputs": [
        {
          "output_type": "execute_result",
          "data": {
            "application/vnd.google.colaboratory.intrinsic+json": {
              "type": "string"
            },
            "text/plain": [
              "\"\\npm25_corr_2017.to_csv('/content/drive/MyDrive/pm_data/상관관계/2017상관관계.csv')\\npm25_corr_2019.to_csv('/content/drive/MyDrive/pm_data/상관관계/2019상관관계.csv')\\npm25_corr_2020.to_csv('/content/drive/MyDrive/pm_data/상관관계/2020상관관계.csv')\\n\""
            ]
          },
          "metadata": {},
          "execution_count": 9
        }
      ]
    },
    {
      "cell_type": "code",
      "metadata": {
        "colab": {
          "base_uri": "https://localhost:8080/",
          "height": 238
        },
        "id": "kKnHMXl5VYTy",
        "outputId": "0ca8a3be-75e1-43e8-9771-7cc35f40f06b"
      },
      "source": [
        "pm25_corr_total = pd.concat([data_17.corr().PM25,data_19.corr().PM25,data_20.corr().PM25],axis=1)\n",
        "pm25_corr_total.columns = ['2017','2019','2020']\n",
        "#pm25_corr_total.to_csv('/content/drive/MyDrive/pm_data/상관관계/17_19_20상관관계.csv')\n",
        "pm25_corr_total"
      ],
      "execution_count": null,
      "outputs": [
        {
          "output_type": "execute_result",
          "data": {
            "text/html": [
              "<div>\n",
              "<style scoped>\n",
              "    .dataframe tbody tr th:only-of-type {\n",
              "        vertical-align: middle;\n",
              "    }\n",
              "\n",
              "    .dataframe tbody tr th {\n",
              "        vertical-align: top;\n",
              "    }\n",
              "\n",
              "    .dataframe thead th {\n",
              "        text-align: right;\n",
              "    }\n",
              "</style>\n",
              "<table border=\"1\" class=\"dataframe\">\n",
              "  <thead>\n",
              "    <tr style=\"text-align: right;\">\n",
              "      <th></th>\n",
              "      <th>2017</th>\n",
              "      <th>2019</th>\n",
              "      <th>2020</th>\n",
              "    </tr>\n",
              "  </thead>\n",
              "  <tbody>\n",
              "    <tr>\n",
              "      <th>SO2</th>\n",
              "      <td>0.256523</td>\n",
              "      <td>0.211265</td>\n",
              "      <td>0.171537</td>\n",
              "    </tr>\n",
              "    <tr>\n",
              "      <th>CO</th>\n",
              "      <td>0.522722</td>\n",
              "      <td>0.555751</td>\n",
              "      <td>0.500790</td>\n",
              "    </tr>\n",
              "    <tr>\n",
              "      <th>O3</th>\n",
              "      <td>-0.049318</td>\n",
              "      <td>-0.029995</td>\n",
              "      <td>-0.091022</td>\n",
              "    </tr>\n",
              "    <tr>\n",
              "      <th>NO2</th>\n",
              "      <td>0.416006</td>\n",
              "      <td>0.408258</td>\n",
              "      <td>0.435051</td>\n",
              "    </tr>\n",
              "    <tr>\n",
              "      <th>PM10</th>\n",
              "      <td>0.740055</td>\n",
              "      <td>0.853473</td>\n",
              "      <td>0.795540</td>\n",
              "    </tr>\n",
              "    <tr>\n",
              "      <th>PM25</th>\n",
              "      <td>1.000000</td>\n",
              "      <td>1.000000</td>\n",
              "      <td>1.000000</td>\n",
              "    </tr>\n",
              "  </tbody>\n",
              "</table>\n",
              "</div>"
            ],
            "text/plain": [
              "          2017      2019      2020\n",
              "SO2   0.256523  0.211265  0.171537\n",
              "CO    0.522722  0.555751  0.500790\n",
              "O3   -0.049318 -0.029995 -0.091022\n",
              "NO2   0.416006  0.408258  0.435051\n",
              "PM10  0.740055  0.853473  0.795540\n",
              "PM25  1.000000  1.000000  1.000000"
            ]
          },
          "metadata": {},
          "execution_count": 10
        }
      ]
    },
    {
      "cell_type": "code",
      "metadata": {
        "colab": {
          "base_uri": "https://localhost:8080/",
          "height": 238
        },
        "id": "8FZTlqceWUOY",
        "outputId": "f4ee99a3-8b10-4775-ab9b-db54d86967df"
      },
      "source": [
        "pm25_corr = pd.concat([data_01.corr().PM25,data_02.corr().PM25,data_03.corr().PM25,data_04.corr().PM25,data_05.corr().PM25,data_06.corr().PM25,data_07.corr().PM25,data_08.corr().PM25\n",
        "                       ,data_09.corr().PM25,data_10.corr().PM25,data_11.corr().PM25,data_12.corr().PM25],axis = 1)\n",
        "\n",
        "pm25_corr.columns = ['mon1','mon2','mon3','mon4','mon5','mon6','mon7','mon8','mon9','mon10','mon11','mon12',]\n",
        "pm25_corr"
      ],
      "execution_count": null,
      "outputs": [
        {
          "output_type": "execute_result",
          "data": {
            "text/html": [
              "<div>\n",
              "<style scoped>\n",
              "    .dataframe tbody tr th:only-of-type {\n",
              "        vertical-align: middle;\n",
              "    }\n",
              "\n",
              "    .dataframe tbody tr th {\n",
              "        vertical-align: top;\n",
              "    }\n",
              "\n",
              "    .dataframe thead th {\n",
              "        text-align: right;\n",
              "    }\n",
              "</style>\n",
              "<table border=\"1\" class=\"dataframe\">\n",
              "  <thead>\n",
              "    <tr style=\"text-align: right;\">\n",
              "      <th></th>\n",
              "      <th>mon1</th>\n",
              "      <th>mon2</th>\n",
              "      <th>mon3</th>\n",
              "      <th>mon4</th>\n",
              "      <th>mon5</th>\n",
              "      <th>mon6</th>\n",
              "      <th>mon7</th>\n",
              "      <th>mon8</th>\n",
              "      <th>mon9</th>\n",
              "      <th>mon10</th>\n",
              "      <th>mon11</th>\n",
              "      <th>mon12</th>\n",
              "    </tr>\n",
              "  </thead>\n",
              "  <tbody>\n",
              "    <tr>\n",
              "      <th>SO2</th>\n",
              "      <td>0.273656</td>\n",
              "      <td>0.196096</td>\n",
              "      <td>0.249525</td>\n",
              "      <td>0.243144</td>\n",
              "      <td>0.263253</td>\n",
              "      <td>0.206930</td>\n",
              "      <td>0.218286</td>\n",
              "      <td>0.189417</td>\n",
              "      <td>0.176378</td>\n",
              "      <td>0.125689</td>\n",
              "      <td>0.178041</td>\n",
              "      <td>0.191178</td>\n",
              "    </tr>\n",
              "    <tr>\n",
              "      <th>CO</th>\n",
              "      <td>0.579336</td>\n",
              "      <td>0.528810</td>\n",
              "      <td>0.602235</td>\n",
              "      <td>0.408878</td>\n",
              "      <td>0.459029</td>\n",
              "      <td>0.359038</td>\n",
              "      <td>0.394137</td>\n",
              "      <td>0.260669</td>\n",
              "      <td>0.441174</td>\n",
              "      <td>0.456683</td>\n",
              "      <td>0.485743</td>\n",
              "      <td>0.566067</td>\n",
              "    </tr>\n",
              "    <tr>\n",
              "      <th>O3</th>\n",
              "      <td>-0.299437</td>\n",
              "      <td>-0.187940</td>\n",
              "      <td>-0.084682</td>\n",
              "      <td>-0.025453</td>\n",
              "      <td>0.109238</td>\n",
              "      <td>0.174446</td>\n",
              "      <td>0.278603</td>\n",
              "      <td>0.252384</td>\n",
              "      <td>0.130822</td>\n",
              "      <td>-0.128658</td>\n",
              "      <td>-0.199017</td>\n",
              "      <td>-0.329275</td>\n",
              "    </tr>\n",
              "    <tr>\n",
              "      <th>NO2</th>\n",
              "      <td>0.425306</td>\n",
              "      <td>0.374564</td>\n",
              "      <td>0.422883</td>\n",
              "      <td>0.349535</td>\n",
              "      <td>0.371959</td>\n",
              "      <td>0.274711</td>\n",
              "      <td>0.346672</td>\n",
              "      <td>0.228754</td>\n",
              "      <td>0.319539</td>\n",
              "      <td>0.405997</td>\n",
              "      <td>0.422495</td>\n",
              "      <td>0.459407</td>\n",
              "    </tr>\n",
              "    <tr>\n",
              "      <th>PM10</th>\n",
              "      <td>0.823664</td>\n",
              "      <td>0.840846</td>\n",
              "      <td>0.913358</td>\n",
              "      <td>0.631361</td>\n",
              "      <td>0.653506</td>\n",
              "      <td>0.814739</td>\n",
              "      <td>0.881560</td>\n",
              "      <td>0.828626</td>\n",
              "      <td>0.858210</td>\n",
              "      <td>0.765302</td>\n",
              "      <td>0.770895</td>\n",
              "      <td>0.906511</td>\n",
              "    </tr>\n",
              "    <tr>\n",
              "      <th>PM25</th>\n",
              "      <td>1.000000</td>\n",
              "      <td>1.000000</td>\n",
              "      <td>1.000000</td>\n",
              "      <td>1.000000</td>\n",
              "      <td>1.000000</td>\n",
              "      <td>1.000000</td>\n",
              "      <td>1.000000</td>\n",
              "      <td>1.000000</td>\n",
              "      <td>1.000000</td>\n",
              "      <td>1.000000</td>\n",
              "      <td>1.000000</td>\n",
              "      <td>1.000000</td>\n",
              "    </tr>\n",
              "  </tbody>\n",
              "</table>\n",
              "</div>"
            ],
            "text/plain": [
              "          mon1      mon2      mon3  ...     mon10     mon11     mon12\n",
              "SO2   0.273656  0.196096  0.249525  ...  0.125689  0.178041  0.191178\n",
              "CO    0.579336  0.528810  0.602235  ...  0.456683  0.485743  0.566067\n",
              "O3   -0.299437 -0.187940 -0.084682  ... -0.128658 -0.199017 -0.329275\n",
              "NO2   0.425306  0.374564  0.422883  ...  0.405997  0.422495  0.459407\n",
              "PM10  0.823664  0.840846  0.913358  ...  0.765302  0.770895  0.906511\n",
              "PM25  1.000000  1.000000  1.000000  ...  1.000000  1.000000  1.000000\n",
              "\n",
              "[6 rows x 12 columns]"
            ]
          },
          "metadata": {},
          "execution_count": 11
        }
      ]
    },
    {
      "cell_type": "code",
      "metadata": {
        "colab": {
          "base_uri": "https://localhost:8080/",
          "height": 238
        },
        "id": "TCJXbivDdFXf",
        "outputId": "09596cdb-3172-4d2d-9fea-1031b78fed3c"
      },
      "source": [
        "data_total.corr()"
      ],
      "execution_count": null,
      "outputs": [
        {
          "output_type": "execute_result",
          "data": {
            "text/html": [
              "<div>\n",
              "<style scoped>\n",
              "    .dataframe tbody tr th:only-of-type {\n",
              "        vertical-align: middle;\n",
              "    }\n",
              "\n",
              "    .dataframe tbody tr th {\n",
              "        vertical-align: top;\n",
              "    }\n",
              "\n",
              "    .dataframe thead th {\n",
              "        text-align: right;\n",
              "    }\n",
              "</style>\n",
              "<table border=\"1\" class=\"dataframe\">\n",
              "  <thead>\n",
              "    <tr style=\"text-align: right;\">\n",
              "      <th></th>\n",
              "      <th>SO2</th>\n",
              "      <th>CO</th>\n",
              "      <th>O3</th>\n",
              "      <th>NO2</th>\n",
              "      <th>PM10</th>\n",
              "      <th>PM25</th>\n",
              "    </tr>\n",
              "  </thead>\n",
              "  <tbody>\n",
              "    <tr>\n",
              "      <th>SO2</th>\n",
              "      <td>1.000000</td>\n",
              "      <td>0.280628</td>\n",
              "      <td>-0.000749</td>\n",
              "      <td>0.298532</td>\n",
              "      <td>0.243470</td>\n",
              "      <td>0.230525</td>\n",
              "    </tr>\n",
              "    <tr>\n",
              "      <th>CO</th>\n",
              "      <td>0.280628</td>\n",
              "      <td>1.000000</td>\n",
              "      <td>-0.284623</td>\n",
              "      <td>0.586022</td>\n",
              "      <td>0.452062</td>\n",
              "      <td>0.534664</td>\n",
              "    </tr>\n",
              "    <tr>\n",
              "      <th>O3</th>\n",
              "      <td>-0.000749</td>\n",
              "      <td>-0.284623</td>\n",
              "      <td>1.000000</td>\n",
              "      <td>-0.471995</td>\n",
              "      <td>0.035559</td>\n",
              "      <td>-0.055721</td>\n",
              "    </tr>\n",
              "    <tr>\n",
              "      <th>NO2</th>\n",
              "      <td>0.298532</td>\n",
              "      <td>0.586022</td>\n",
              "      <td>-0.471995</td>\n",
              "      <td>1.000000</td>\n",
              "      <td>0.394386</td>\n",
              "      <td>0.430499</td>\n",
              "    </tr>\n",
              "    <tr>\n",
              "      <th>PM10</th>\n",
              "      <td>0.243470</td>\n",
              "      <td>0.452062</td>\n",
              "      <td>0.035559</td>\n",
              "      <td>0.394386</td>\n",
              "      <td>1.000000</td>\n",
              "      <td>0.814862</td>\n",
              "    </tr>\n",
              "    <tr>\n",
              "      <th>PM25</th>\n",
              "      <td>0.230525</td>\n",
              "      <td>0.534664</td>\n",
              "      <td>-0.055721</td>\n",
              "      <td>0.430499</td>\n",
              "      <td>0.814862</td>\n",
              "      <td>1.000000</td>\n",
              "    </tr>\n",
              "  </tbody>\n",
              "</table>\n",
              "</div>"
            ],
            "text/plain": [
              "           SO2        CO        O3       NO2      PM10      PM25\n",
              "SO2   1.000000  0.280628 -0.000749  0.298532  0.243470  0.230525\n",
              "CO    0.280628  1.000000 -0.284623  0.586022  0.452062  0.534664\n",
              "O3   -0.000749 -0.284623  1.000000 -0.471995  0.035559 -0.055721\n",
              "NO2   0.298532  0.586022 -0.471995  1.000000  0.394386  0.430499\n",
              "PM10  0.243470  0.452062  0.035559  0.394386  1.000000  0.814862\n",
              "PM25  0.230525  0.534664 -0.055721  0.430499  0.814862  1.000000"
            ]
          },
          "metadata": {},
          "execution_count": 12
        }
      ]
    },
    {
      "cell_type": "code",
      "metadata": {
        "id": "oho7lgTWstYe"
      },
      "source": [
        "# 샘플링\n",
        "\n",
        "#data = data.sample(n=1000)"
      ],
      "execution_count": null,
      "outputs": []
    },
    {
      "cell_type": "code",
      "metadata": {
        "id": "5kArmfDQbGE3"
      },
      "source": [
        "#data = data.drop('Time',axis=1)\n"
      ],
      "execution_count": null,
      "outputs": []
    },
    {
      "cell_type": "markdown",
      "metadata": {
        "id": "laamQSNfbOUI"
      },
      "source": [
        "# data 이상치 찾기"
      ]
    },
    {
      "cell_type": "code",
      "metadata": {
        "id": "TvRk8grNEKrt"
      },
      "source": [
        "# data 어떤거 사용할지 설정\n",
        "\n",
        "data = data_total"
      ],
      "execution_count": null,
      "outputs": []
    },
    {
      "cell_type": "code",
      "metadata": {
        "colab": {
          "base_uri": "https://localhost:8080/"
        },
        "id": "1IZ_Vt3mbjHy",
        "outputId": "28efd3a1-806b-4c3b-9521-05bc42584866"
      },
      "source": [
        "# 이상치 찾기\n",
        "quartile_1 = data.quantile(0.25)\n",
        "quartile_3 = data.quantile(0.75)\n",
        "IQR = quartile_3 - quartile_1\n",
        "condition = (data < (quartile_1 - 1.5 * IQR)) | (data > (quartile_3 + 1.5 * IQR))\n",
        "condition = condition.any(axis=1)\n",
        "search_df = data[condition]\n",
        "print(search_df)\n",
        "\n"
      ],
      "execution_count": null,
      "outputs": [
        {
          "output_type": "stream",
          "name": "stdout",
          "text": [
            "           SO2   CO     O3    NO2  PM10  PM25\n",
            "0        0.006  1.3  0.002  0.068  77.0  63.0\n",
            "1        0.006  1.4  0.002  0.066  76.0  63.0\n",
            "2        0.005  1.2  0.002  0.063  73.0  57.0\n",
            "3        0.005  1.1  0.002  0.053  67.0  55.0\n",
            "4        0.004  1.1  0.002  0.051  66.0  54.0\n",
            "...        ...  ...    ...    ...   ...   ...\n",
            "9196318  0.005  0.7  0.041  0.007  72.0  61.0\n",
            "9196319  0.005  0.7  0.040  0.006  76.0  62.0\n",
            "9196320  0.005  0.7  0.034  0.010  73.0  63.0\n",
            "9196322  0.005  0.6  0.036  0.008  60.0  59.0\n",
            "9196326  0.004  0.7  0.031  0.007  64.0  60.0\n",
            "\n",
            "[1340377 rows x 6 columns]\n"
          ]
        }
      ]
    },
    {
      "cell_type": "code",
      "metadata": {
        "colab": {
          "base_uri": "https://localhost:8080/"
        },
        "id": "rCV9hkbjbkeh",
        "outputId": "62906354-405e-4c5f-8920-5d025658144b"
      },
      "source": [
        "data_iqr = data.drop(search_df.index, axis=0)\n",
        "print(data_iqr)"
      ],
      "execution_count": null,
      "outputs": [
        {
          "output_type": "stream",
          "name": "stdout",
          "text": [
            "           SO2   CO     O3    NO2  PM10  PM25\n",
            "55       0.005  0.7  0.011  0.046  73.0  48.0\n",
            "61       0.005  0.5  0.023  0.039  75.0  50.0\n",
            "62       0.005  0.4  0.023  0.038  55.0  35.0\n",
            "63       0.005  0.4  0.018  0.042  46.0  31.0\n",
            "85       0.005  0.6  0.030  0.032  67.0  47.0\n",
            "...        ...  ...    ...    ...   ...   ...\n",
            "9196380  0.005  0.4  0.036  0.004  20.0   9.0\n",
            "9196381  0.004  0.3  0.037  0.003  20.0  10.0\n",
            "9196382  0.004  0.3  0.037  0.003  16.0   8.0\n",
            "9196383  0.004  0.3  0.037  0.003  14.0  12.0\n",
            "9196384  0.005  0.3  0.036  0.004  15.0   8.0\n",
            "\n",
            "[7856008 rows x 6 columns]\n"
          ]
        }
      ]
    },
    {
      "cell_type": "code",
      "metadata": {
        "id": "Wrj4rZ53bsAs"
      },
      "source": [
        "data_iqr= data_iqr.reset_index()"
      ],
      "execution_count": null,
      "outputs": []
    },
    {
      "cell_type": "code",
      "metadata": {
        "colab": {
          "base_uri": "https://localhost:8080/",
          "height": 423
        },
        "id": "2hdP4QhDbumN",
        "outputId": "41858424-4b1d-4337-c261-d671e82012dc"
      },
      "source": [
        "data_iqr.columns = ['a','SO2','CO','O3','NO2','PM10','PM25']\n",
        "data_iqr = data_iqr.drop(['a'],axis=1)\n",
        "data_iqr"
      ],
      "execution_count": null,
      "outputs": [
        {
          "output_type": "execute_result",
          "data": {
            "text/html": [
              "<div>\n",
              "<style scoped>\n",
              "    .dataframe tbody tr th:only-of-type {\n",
              "        vertical-align: middle;\n",
              "    }\n",
              "\n",
              "    .dataframe tbody tr th {\n",
              "        vertical-align: top;\n",
              "    }\n",
              "\n",
              "    .dataframe thead th {\n",
              "        text-align: right;\n",
              "    }\n",
              "</style>\n",
              "<table border=\"1\" class=\"dataframe\">\n",
              "  <thead>\n",
              "    <tr style=\"text-align: right;\">\n",
              "      <th></th>\n",
              "      <th>SO2</th>\n",
              "      <th>CO</th>\n",
              "      <th>O3</th>\n",
              "      <th>NO2</th>\n",
              "      <th>PM10</th>\n",
              "      <th>PM25</th>\n",
              "    </tr>\n",
              "  </thead>\n",
              "  <tbody>\n",
              "    <tr>\n",
              "      <th>0</th>\n",
              "      <td>0.005</td>\n",
              "      <td>0.7</td>\n",
              "      <td>0.011</td>\n",
              "      <td>0.046</td>\n",
              "      <td>73.0</td>\n",
              "      <td>48.0</td>\n",
              "    </tr>\n",
              "    <tr>\n",
              "      <th>1</th>\n",
              "      <td>0.005</td>\n",
              "      <td>0.5</td>\n",
              "      <td>0.023</td>\n",
              "      <td>0.039</td>\n",
              "      <td>75.0</td>\n",
              "      <td>50.0</td>\n",
              "    </tr>\n",
              "    <tr>\n",
              "      <th>2</th>\n",
              "      <td>0.005</td>\n",
              "      <td>0.4</td>\n",
              "      <td>0.023</td>\n",
              "      <td>0.038</td>\n",
              "      <td>55.0</td>\n",
              "      <td>35.0</td>\n",
              "    </tr>\n",
              "    <tr>\n",
              "      <th>3</th>\n",
              "      <td>0.005</td>\n",
              "      <td>0.4</td>\n",
              "      <td>0.018</td>\n",
              "      <td>0.042</td>\n",
              "      <td>46.0</td>\n",
              "      <td>31.0</td>\n",
              "    </tr>\n",
              "    <tr>\n",
              "      <th>4</th>\n",
              "      <td>0.005</td>\n",
              "      <td>0.6</td>\n",
              "      <td>0.030</td>\n",
              "      <td>0.032</td>\n",
              "      <td>67.0</td>\n",
              "      <td>47.0</td>\n",
              "    </tr>\n",
              "    <tr>\n",
              "      <th>...</th>\n",
              "      <td>...</td>\n",
              "      <td>...</td>\n",
              "      <td>...</td>\n",
              "      <td>...</td>\n",
              "      <td>...</td>\n",
              "      <td>...</td>\n",
              "    </tr>\n",
              "    <tr>\n",
              "      <th>7856003</th>\n",
              "      <td>0.005</td>\n",
              "      <td>0.4</td>\n",
              "      <td>0.036</td>\n",
              "      <td>0.004</td>\n",
              "      <td>20.0</td>\n",
              "      <td>9.0</td>\n",
              "    </tr>\n",
              "    <tr>\n",
              "      <th>7856004</th>\n",
              "      <td>0.004</td>\n",
              "      <td>0.3</td>\n",
              "      <td>0.037</td>\n",
              "      <td>0.003</td>\n",
              "      <td>20.0</td>\n",
              "      <td>10.0</td>\n",
              "    </tr>\n",
              "    <tr>\n",
              "      <th>7856005</th>\n",
              "      <td>0.004</td>\n",
              "      <td>0.3</td>\n",
              "      <td>0.037</td>\n",
              "      <td>0.003</td>\n",
              "      <td>16.0</td>\n",
              "      <td>8.0</td>\n",
              "    </tr>\n",
              "    <tr>\n",
              "      <th>7856006</th>\n",
              "      <td>0.004</td>\n",
              "      <td>0.3</td>\n",
              "      <td>0.037</td>\n",
              "      <td>0.003</td>\n",
              "      <td>14.0</td>\n",
              "      <td>12.0</td>\n",
              "    </tr>\n",
              "    <tr>\n",
              "      <th>7856007</th>\n",
              "      <td>0.005</td>\n",
              "      <td>0.3</td>\n",
              "      <td>0.036</td>\n",
              "      <td>0.004</td>\n",
              "      <td>15.0</td>\n",
              "      <td>8.0</td>\n",
              "    </tr>\n",
              "  </tbody>\n",
              "</table>\n",
              "<p>7856008 rows × 6 columns</p>\n",
              "</div>"
            ],
            "text/plain": [
              "           SO2   CO     O3    NO2  PM10  PM25\n",
              "0        0.005  0.7  0.011  0.046  73.0  48.0\n",
              "1        0.005  0.5  0.023  0.039  75.0  50.0\n",
              "2        0.005  0.4  0.023  0.038  55.0  35.0\n",
              "3        0.005  0.4  0.018  0.042  46.0  31.0\n",
              "4        0.005  0.6  0.030  0.032  67.0  47.0\n",
              "...        ...  ...    ...    ...   ...   ...\n",
              "7856003  0.005  0.4  0.036  0.004  20.0   9.0\n",
              "7856004  0.004  0.3  0.037  0.003  20.0  10.0\n",
              "7856005  0.004  0.3  0.037  0.003  16.0   8.0\n",
              "7856006  0.004  0.3  0.037  0.003  14.0  12.0\n",
              "7856007  0.005  0.3  0.036  0.004  15.0   8.0\n",
              "\n",
              "[7856008 rows x 6 columns]"
            ]
          },
          "metadata": {},
          "execution_count": 19
        }
      ]
    },
    {
      "cell_type": "code",
      "metadata": {
        "colab": {
          "base_uri": "https://localhost:8080/",
          "height": 238
        },
        "id": "jSyf8uTSbwgg",
        "outputId": "fd1a600c-5858-4d65-bca1-b7e79c8ab716"
      },
      "source": [
        "#이상치 제거한 data\n",
        "data_iqr.corr()"
      ],
      "execution_count": null,
      "outputs": [
        {
          "output_type": "execute_result",
          "data": {
            "text/html": [
              "<div>\n",
              "<style scoped>\n",
              "    .dataframe tbody tr th:only-of-type {\n",
              "        vertical-align: middle;\n",
              "    }\n",
              "\n",
              "    .dataframe tbody tr th {\n",
              "        vertical-align: top;\n",
              "    }\n",
              "\n",
              "    .dataframe thead th {\n",
              "        text-align: right;\n",
              "    }\n",
              "</style>\n",
              "<table border=\"1\" class=\"dataframe\">\n",
              "  <thead>\n",
              "    <tr style=\"text-align: right;\">\n",
              "      <th></th>\n",
              "      <th>SO2</th>\n",
              "      <th>CO</th>\n",
              "      <th>O3</th>\n",
              "      <th>NO2</th>\n",
              "      <th>PM10</th>\n",
              "      <th>PM25</th>\n",
              "    </tr>\n",
              "  </thead>\n",
              "  <tbody>\n",
              "    <tr>\n",
              "      <th>SO2</th>\n",
              "      <td>1.000000</td>\n",
              "      <td>0.223163</td>\n",
              "      <td>0.007243</td>\n",
              "      <td>0.302936</td>\n",
              "      <td>0.264275</td>\n",
              "      <td>0.223198</td>\n",
              "    </tr>\n",
              "    <tr>\n",
              "      <th>CO</th>\n",
              "      <td>0.223163</td>\n",
              "      <td>1.000000</td>\n",
              "      <td>-0.241304</td>\n",
              "      <td>0.487700</td>\n",
              "      <td>0.362970</td>\n",
              "      <td>0.428166</td>\n",
              "    </tr>\n",
              "    <tr>\n",
              "      <th>O3</th>\n",
              "      <td>0.007243</td>\n",
              "      <td>-0.241304</td>\n",
              "      <td>1.000000</td>\n",
              "      <td>-0.466036</td>\n",
              "      <td>0.070090</td>\n",
              "      <td>-0.021061</td>\n",
              "    </tr>\n",
              "    <tr>\n",
              "      <th>NO2</th>\n",
              "      <td>0.302936</td>\n",
              "      <td>0.487700</td>\n",
              "      <td>-0.466036</td>\n",
              "      <td>1.000000</td>\n",
              "      <td>0.346394</td>\n",
              "      <td>0.351829</td>\n",
              "    </tr>\n",
              "    <tr>\n",
              "      <th>PM10</th>\n",
              "      <td>0.264275</td>\n",
              "      <td>0.362970</td>\n",
              "      <td>0.070090</td>\n",
              "      <td>0.346394</td>\n",
              "      <td>1.000000</td>\n",
              "      <td>0.778995</td>\n",
              "    </tr>\n",
              "    <tr>\n",
              "      <th>PM25</th>\n",
              "      <td>0.223198</td>\n",
              "      <td>0.428166</td>\n",
              "      <td>-0.021061</td>\n",
              "      <td>0.351829</td>\n",
              "      <td>0.778995</td>\n",
              "      <td>1.000000</td>\n",
              "    </tr>\n",
              "  </tbody>\n",
              "</table>\n",
              "</div>"
            ],
            "text/plain": [
              "           SO2        CO        O3       NO2      PM10      PM25\n",
              "SO2   1.000000  0.223163  0.007243  0.302936  0.264275  0.223198\n",
              "CO    0.223163  1.000000 -0.241304  0.487700  0.362970  0.428166\n",
              "O3    0.007243 -0.241304  1.000000 -0.466036  0.070090 -0.021061\n",
              "NO2   0.302936  0.487700 -0.466036  1.000000  0.346394  0.351829\n",
              "PM10  0.264275  0.362970  0.070090  0.346394  1.000000  0.778995\n",
              "PM25  0.223198  0.428166 -0.021061  0.351829  0.778995  1.000000"
            ]
          },
          "metadata": {},
          "execution_count": 20
        }
      ]
    },
    {
      "cell_type": "code",
      "metadata": {
        "colab": {
          "base_uri": "https://localhost:8080/",
          "height": 238
        },
        "id": "-cFWAMq9hXMl",
        "outputId": "d029c801-5ac7-4f07-f926-49192706a5e8"
      },
      "source": [
        "data.corr()"
      ],
      "execution_count": null,
      "outputs": [
        {
          "output_type": "execute_result",
          "data": {
            "text/html": [
              "<div>\n",
              "<style scoped>\n",
              "    .dataframe tbody tr th:only-of-type {\n",
              "        vertical-align: middle;\n",
              "    }\n",
              "\n",
              "    .dataframe tbody tr th {\n",
              "        vertical-align: top;\n",
              "    }\n",
              "\n",
              "    .dataframe thead th {\n",
              "        text-align: right;\n",
              "    }\n",
              "</style>\n",
              "<table border=\"1\" class=\"dataframe\">\n",
              "  <thead>\n",
              "    <tr style=\"text-align: right;\">\n",
              "      <th></th>\n",
              "      <th>SO2</th>\n",
              "      <th>CO</th>\n",
              "      <th>O3</th>\n",
              "      <th>NO2</th>\n",
              "      <th>PM10</th>\n",
              "      <th>PM25</th>\n",
              "    </tr>\n",
              "  </thead>\n",
              "  <tbody>\n",
              "    <tr>\n",
              "      <th>SO2</th>\n",
              "      <td>1.000000</td>\n",
              "      <td>0.280628</td>\n",
              "      <td>-0.000749</td>\n",
              "      <td>0.298532</td>\n",
              "      <td>0.243470</td>\n",
              "      <td>0.230525</td>\n",
              "    </tr>\n",
              "    <tr>\n",
              "      <th>CO</th>\n",
              "      <td>0.280628</td>\n",
              "      <td>1.000000</td>\n",
              "      <td>-0.284623</td>\n",
              "      <td>0.586022</td>\n",
              "      <td>0.452062</td>\n",
              "      <td>0.534664</td>\n",
              "    </tr>\n",
              "    <tr>\n",
              "      <th>O3</th>\n",
              "      <td>-0.000749</td>\n",
              "      <td>-0.284623</td>\n",
              "      <td>1.000000</td>\n",
              "      <td>-0.471995</td>\n",
              "      <td>0.035559</td>\n",
              "      <td>-0.055721</td>\n",
              "    </tr>\n",
              "    <tr>\n",
              "      <th>NO2</th>\n",
              "      <td>0.298532</td>\n",
              "      <td>0.586022</td>\n",
              "      <td>-0.471995</td>\n",
              "      <td>1.000000</td>\n",
              "      <td>0.394386</td>\n",
              "      <td>0.430499</td>\n",
              "    </tr>\n",
              "    <tr>\n",
              "      <th>PM10</th>\n",
              "      <td>0.243470</td>\n",
              "      <td>0.452062</td>\n",
              "      <td>0.035559</td>\n",
              "      <td>0.394386</td>\n",
              "      <td>1.000000</td>\n",
              "      <td>0.814862</td>\n",
              "    </tr>\n",
              "    <tr>\n",
              "      <th>PM25</th>\n",
              "      <td>0.230525</td>\n",
              "      <td>0.534664</td>\n",
              "      <td>-0.055721</td>\n",
              "      <td>0.430499</td>\n",
              "      <td>0.814862</td>\n",
              "      <td>1.000000</td>\n",
              "    </tr>\n",
              "  </tbody>\n",
              "</table>\n",
              "</div>"
            ],
            "text/plain": [
              "           SO2        CO        O3       NO2      PM10      PM25\n",
              "SO2   1.000000  0.280628 -0.000749  0.298532  0.243470  0.230525\n",
              "CO    0.280628  1.000000 -0.284623  0.586022  0.452062  0.534664\n",
              "O3   -0.000749 -0.284623  1.000000 -0.471995  0.035559 -0.055721\n",
              "NO2   0.298532  0.586022 -0.471995  1.000000  0.394386  0.430499\n",
              "PM10  0.243470  0.452062  0.035559  0.394386  1.000000  0.814862\n",
              "PM25  0.230525  0.534664 -0.055721  0.430499  0.814862  1.000000"
            ]
          },
          "metadata": {},
          "execution_count": 21
        }
      ]
    },
    {
      "cell_type": "code",
      "metadata": {
        "id": "zIKuEDTpcC58",
        "colab": {
          "base_uri": "https://localhost:8080/",
          "height": 423
        },
        "outputId": "8db79008-ae9e-4cc2-eec3-482de1b72924"
      },
      "source": [
        "data_iqr"
      ],
      "execution_count": null,
      "outputs": [
        {
          "output_type": "execute_result",
          "data": {
            "text/html": [
              "<div>\n",
              "<style scoped>\n",
              "    .dataframe tbody tr th:only-of-type {\n",
              "        vertical-align: middle;\n",
              "    }\n",
              "\n",
              "    .dataframe tbody tr th {\n",
              "        vertical-align: top;\n",
              "    }\n",
              "\n",
              "    .dataframe thead th {\n",
              "        text-align: right;\n",
              "    }\n",
              "</style>\n",
              "<table border=\"1\" class=\"dataframe\">\n",
              "  <thead>\n",
              "    <tr style=\"text-align: right;\">\n",
              "      <th></th>\n",
              "      <th>SO2</th>\n",
              "      <th>CO</th>\n",
              "      <th>O3</th>\n",
              "      <th>NO2</th>\n",
              "      <th>PM10</th>\n",
              "      <th>PM25</th>\n",
              "    </tr>\n",
              "  </thead>\n",
              "  <tbody>\n",
              "    <tr>\n",
              "      <th>0</th>\n",
              "      <td>0.005</td>\n",
              "      <td>0.7</td>\n",
              "      <td>0.011</td>\n",
              "      <td>0.046</td>\n",
              "      <td>73.0</td>\n",
              "      <td>48.0</td>\n",
              "    </tr>\n",
              "    <tr>\n",
              "      <th>1</th>\n",
              "      <td>0.005</td>\n",
              "      <td>0.5</td>\n",
              "      <td>0.023</td>\n",
              "      <td>0.039</td>\n",
              "      <td>75.0</td>\n",
              "      <td>50.0</td>\n",
              "    </tr>\n",
              "    <tr>\n",
              "      <th>2</th>\n",
              "      <td>0.005</td>\n",
              "      <td>0.4</td>\n",
              "      <td>0.023</td>\n",
              "      <td>0.038</td>\n",
              "      <td>55.0</td>\n",
              "      <td>35.0</td>\n",
              "    </tr>\n",
              "    <tr>\n",
              "      <th>3</th>\n",
              "      <td>0.005</td>\n",
              "      <td>0.4</td>\n",
              "      <td>0.018</td>\n",
              "      <td>0.042</td>\n",
              "      <td>46.0</td>\n",
              "      <td>31.0</td>\n",
              "    </tr>\n",
              "    <tr>\n",
              "      <th>4</th>\n",
              "      <td>0.005</td>\n",
              "      <td>0.6</td>\n",
              "      <td>0.030</td>\n",
              "      <td>0.032</td>\n",
              "      <td>67.0</td>\n",
              "      <td>47.0</td>\n",
              "    </tr>\n",
              "    <tr>\n",
              "      <th>...</th>\n",
              "      <td>...</td>\n",
              "      <td>...</td>\n",
              "      <td>...</td>\n",
              "      <td>...</td>\n",
              "      <td>...</td>\n",
              "      <td>...</td>\n",
              "    </tr>\n",
              "    <tr>\n",
              "      <th>7856003</th>\n",
              "      <td>0.005</td>\n",
              "      <td>0.4</td>\n",
              "      <td>0.036</td>\n",
              "      <td>0.004</td>\n",
              "      <td>20.0</td>\n",
              "      <td>9.0</td>\n",
              "    </tr>\n",
              "    <tr>\n",
              "      <th>7856004</th>\n",
              "      <td>0.004</td>\n",
              "      <td>0.3</td>\n",
              "      <td>0.037</td>\n",
              "      <td>0.003</td>\n",
              "      <td>20.0</td>\n",
              "      <td>10.0</td>\n",
              "    </tr>\n",
              "    <tr>\n",
              "      <th>7856005</th>\n",
              "      <td>0.004</td>\n",
              "      <td>0.3</td>\n",
              "      <td>0.037</td>\n",
              "      <td>0.003</td>\n",
              "      <td>16.0</td>\n",
              "      <td>8.0</td>\n",
              "    </tr>\n",
              "    <tr>\n",
              "      <th>7856006</th>\n",
              "      <td>0.004</td>\n",
              "      <td>0.3</td>\n",
              "      <td>0.037</td>\n",
              "      <td>0.003</td>\n",
              "      <td>14.0</td>\n",
              "      <td>12.0</td>\n",
              "    </tr>\n",
              "    <tr>\n",
              "      <th>7856007</th>\n",
              "      <td>0.005</td>\n",
              "      <td>0.3</td>\n",
              "      <td>0.036</td>\n",
              "      <td>0.004</td>\n",
              "      <td>15.0</td>\n",
              "      <td>8.0</td>\n",
              "    </tr>\n",
              "  </tbody>\n",
              "</table>\n",
              "<p>7856008 rows × 6 columns</p>\n",
              "</div>"
            ],
            "text/plain": [
              "           SO2   CO     O3    NO2  PM10  PM25\n",
              "0        0.005  0.7  0.011  0.046  73.0  48.0\n",
              "1        0.005  0.5  0.023  0.039  75.0  50.0\n",
              "2        0.005  0.4  0.023  0.038  55.0  35.0\n",
              "3        0.005  0.4  0.018  0.042  46.0  31.0\n",
              "4        0.005  0.6  0.030  0.032  67.0  47.0\n",
              "...        ...  ...    ...    ...   ...   ...\n",
              "7856003  0.005  0.4  0.036  0.004  20.0   9.0\n",
              "7856004  0.004  0.3  0.037  0.003  20.0  10.0\n",
              "7856005  0.004  0.3  0.037  0.003  16.0   8.0\n",
              "7856006  0.004  0.3  0.037  0.003  14.0  12.0\n",
              "7856007  0.005  0.3  0.036  0.004  15.0   8.0\n",
              "\n",
              "[7856008 rows x 6 columns]"
            ]
          },
          "metadata": {},
          "execution_count": 22
        }
      ]
    },
    {
      "cell_type": "markdown",
      "metadata": {
        "id": "Llq9jAgTc6oa"
      },
      "source": [
        "# data 분할"
      ]
    },
    {
      "cell_type": "code",
      "metadata": {
        "id": "u8nnyMp0c9LD"
      },
      "source": [
        "#train data, y data 분할\n",
        "\n",
        "\n",
        "train = data_iqr.drop(['PM25','O3'],axis=1)\n",
        "y = data_iqr.PM25\n",
        "\n",
        "\n",
        "#train = data_iqr.drop(['PM25','O3'],axis=1)\n",
        "#y = data_iqr.PM25"
      ],
      "execution_count": null,
      "outputs": []
    },
    {
      "cell_type": "markdown",
      "metadata": {
        "id": "xh0YxqGVczIB"
      },
      "source": [
        ""
      ]
    },
    {
      "cell_type": "markdown",
      "metadata": {
        "id": "8Crr0R-bcvU9"
      },
      "source": [
        "# data 정규화"
      ]
    },
    {
      "cell_type": "code",
      "metadata": {
        "id": "mJsyFK0Bc1Tc"
      },
      "source": [
        "# data정규화\n",
        "\n",
        "def nomalization(df):\n",
        "  df_norm = (df - df.mean())/df.std()\n",
        "  return df_norm\n"
      ],
      "execution_count": null,
      "outputs": []
    },
    {
      "cell_type": "code",
      "metadata": {
        "id": "BNhATBRSc2KP"
      },
      "source": [
        "# data 정규화\n",
        "train_normal = nomalization(train)"
      ],
      "execution_count": null,
      "outputs": []
    },
    {
      "cell_type": "code",
      "metadata": {
        "id": "bTB5YPROdDgC",
        "colab": {
          "base_uri": "https://localhost:8080/",
          "height": 35
        },
        "outputId": "235c0d0a-b532-4857-ca14-fb1595a42d9a"
      },
      "source": [
        "'''# 플롯 그리기 (굳이 안해도 됨)\n",
        "x = pd.concat([train_normal,y],axis=1)\n",
        "sns.pairplot(x,diag_kind='hist')\n",
        "plt.show()'''\n"
      ],
      "execution_count": null,
      "outputs": [
        {
          "output_type": "execute_result",
          "data": {
            "application/vnd.google.colaboratory.intrinsic+json": {
              "type": "string"
            },
            "text/plain": [
              "\"# 플롯 그리기 (굳이 안해도 됨)\\nx = pd.concat([train_normal,y],axis=1)\\nsns.pairplot(x,diag_kind='hist')\\nplt.show()\""
            ]
          },
          "metadata": {},
          "execution_count": 26
        }
      ]
    },
    {
      "cell_type": "markdown",
      "metadata": {
        "id": "cqkJ4uKidlHE"
      },
      "source": [
        "# Model 생성"
      ]
    },
    {
      "cell_type": "code",
      "metadata": {
        "id": "XMPf6lRqdZai"
      },
      "source": [
        "from tensorflow.keras.metrics import RootMeanSquaredError\n",
        "from tensorflow.keras.metrics import MeanAbsolutePercentageError as MAPE\n",
        "from tensorflow.keras.callbacks import ModelCheckpoint"
      ],
      "execution_count": null,
      "outputs": []
    },
    {
      "cell_type": "code",
      "metadata": {
        "id": "8htuBH8Udeyz"
      },
      "source": [
        "'''\n",
        "model = Sequential([Dense(units=6, activation='relu',input_shape=(6,)),\n",
        "                    Dense(units=10,activation='relu' ),\n",
        "                    Dense(units=7,activation='relu' ),\n",
        "                    Dense(units=1,)])\n",
        "  \n",
        "model.compile(\n",
        "      optimizer='adam',\n",
        "      loss='mse',\n",
        "      metrics=[tf.keras.metrics.RootMeanSquaredError()])\n",
        "\n",
        "'''\n",
        "model = Sequential([\n",
        "                    \n",
        "                    Dense(units=4,activation = 'tanh',input_shape=(4,)),\n",
        "                    \n",
        "                    Dense(units=8,activation='tanh' ),\n",
        "                    Dense(units=8,activation='tanh' ),\n",
        "                    #Dense(units=256,activation='tanh' ),\n",
        "                    #Dense(units=64,activation='tanh' ),\n",
        "                    Dense(units=4,activation='tanh' ),\n",
        "                    \n",
        "                    Dense(units=1,)])\n",
        "\n",
        "model.compile(\n",
        "    optimizer='adam',\n",
        "    loss='mse',\n",
        "    metrics=['mae',tf.keras.metrics.RootMeanSquaredError()])"
      ],
      "execution_count": null,
      "outputs": []
    },
    {
      "cell_type": "code",
      "metadata": {
        "colab": {
          "base_uri": "https://localhost:8080/",
          "height": 539
        },
        "id": "UQN970IUdyjo",
        "outputId": "c79ebb34-d28b-4fac-cce4-06266d860fbf"
      },
      "source": [
        "# model 개요\n",
        "plot_model(model,show_shapes=True, dpi=80)"
      ],
      "execution_count": null,
      "outputs": [
        {
          "output_type": "execute_result",
          "data": {
            "image/png": "[encoded data removed]",
            "text/plain": [
              "<IPython.core.display.Image object>"
            ]
          },
          "metadata": {},
          "execution_count": 30
        }
      ]
    },
    {
      "cell_type": "code",
      "metadata": {
        "colab": {
          "base_uri": "https://localhost:8080/",
          "height": 172
        },
        "id": "FtutTtVT8tCT",
        "outputId": "d8f97269-f431-4287-ee55-accde716add3"
      },
      "source": [
        "history = model_relu.fit(train,y,validation_split=0.2,epochs=30,batch_size=8192,verbose=1)  # 학습"
      ],
      "execution_count": null,
      "outputs": [
        {
          "output_type": "error",
          "ename": "NameError",
          "evalue": "ignored",
          "traceback": [
            "\u001b[0;31m---------------------------------------------------------------------------\u001b[0m",
            "\u001b[0;31mNameError\u001b[0m                                 Traceback (most recent call last)",
            "\u001b[0;32m<ipython-input-31-36370620524c>\u001b[0m in \u001b[0;36m<module>\u001b[0;34m()\u001b[0m\n\u001b[0;32m----> 1\u001b[0;31m \u001b[0mhistory\u001b[0m \u001b[0;34m=\u001b[0m \u001b[0mmodel_relu\u001b[0m\u001b[0;34m.\u001b[0m\u001b[0mfit\u001b[0m\u001b[0;34m(\u001b[0m\u001b[0mtrain\u001b[0m\u001b[0;34m,\u001b[0m\u001b[0my\u001b[0m\u001b[0;34m,\u001b[0m\u001b[0mvalidation_split\u001b[0m\u001b[0;34m=\u001b[0m\u001b[0;36m0.2\u001b[0m\u001b[0;34m,\u001b[0m\u001b[0mepochs\u001b[0m\u001b[0;34m=\u001b[0m\u001b[0;36m30\u001b[0m\u001b[0;34m,\u001b[0m\u001b[0mbatch_size\u001b[0m\u001b[0;34m=\u001b[0m\u001b[0;36m8192\u001b[0m\u001b[0;34m,\u001b[0m\u001b[0mverbose\u001b[0m\u001b[0;34m=\u001b[0m\u001b[0;36m1\u001b[0m\u001b[0;34m)\u001b[0m  \u001b[0;31m# 학습\u001b[0m\u001b[0;34m\u001b[0m\u001b[0;34m\u001b[0m\u001b[0m\n\u001b[0m",
            "\u001b[0;31mNameError\u001b[0m: name 'model_relu' is not defined"
          ]
        }
      ]
    },
    {
      "cell_type": "code",
      "metadata": {
        "colab": {
          "base_uri": "https://localhost:8080/",
          "height": 172
        },
        "id": "V32oWIVGd0p2",
        "outputId": "5013bbb3-c70a-4429-b9ee-382b37292b1d"
      },
      "source": [
        "history = model_01.fit(train,y,validation_split=0.2,epochs=70,batch_size=512,verbose=1)  # 학습"
      ],
      "execution_count": null,
      "outputs": [
        {
          "output_type": "error",
          "ename": "NameError",
          "evalue": "ignored",
          "traceback": [
            "\u001b[0;31m---------------------------------------------------------------------------\u001b[0m",
            "\u001b[0;31mNameError\u001b[0m                                 Traceback (most recent call last)",
            "\u001b[0;32m<ipython-input-32-5deaaafcc467>\u001b[0m in \u001b[0;36m<module>\u001b[0;34m()\u001b[0m\n\u001b[0;32m----> 1\u001b[0;31m \u001b[0mhistory\u001b[0m \u001b[0;34m=\u001b[0m \u001b[0mmodel_01\u001b[0m\u001b[0;34m.\u001b[0m\u001b[0mfit\u001b[0m\u001b[0;34m(\u001b[0m\u001b[0mtrain\u001b[0m\u001b[0;34m,\u001b[0m\u001b[0my\u001b[0m\u001b[0;34m,\u001b[0m\u001b[0mvalidation_split\u001b[0m\u001b[0;34m=\u001b[0m\u001b[0;36m0.2\u001b[0m\u001b[0;34m,\u001b[0m\u001b[0mepochs\u001b[0m\u001b[0;34m=\u001b[0m\u001b[0;36m70\u001b[0m\u001b[0;34m,\u001b[0m\u001b[0mbatch_size\u001b[0m\u001b[0;34m=\u001b[0m\u001b[0;36m512\u001b[0m\u001b[0;34m,\u001b[0m\u001b[0mverbose\u001b[0m\u001b[0;34m=\u001b[0m\u001b[0;36m1\u001b[0m\u001b[0;34m)\u001b[0m  \u001b[0;31m# 학습\u001b[0m\u001b[0;34m\u001b[0m\u001b[0;34m\u001b[0m\u001b[0m\n\u001b[0m",
            "\u001b[0;31mNameError\u001b[0m: name 'model_01' is not defined"
          ]
        }
      ]
    },
    {
      "cell_type": "markdown",
      "metadata": {
        "id": "ID16zjArgBDE"
      },
      "source": [
        "# 모델 결과"
      ]
    },
    {
      "cell_type": "code",
      "metadata": {
        "id": "cSpvi18vdx_-",
        "colab": {
          "base_uri": "https://localhost:8080/",
          "height": 172
        },
        "outputId": "5737c2e5-b4d3-48c8-8cc9-8df4a5460d5d"
      },
      "source": [
        "prediction = model_01.predict(train)"
      ],
      "execution_count": null,
      "outputs": [
        {
          "output_type": "error",
          "ename": "NameError",
          "evalue": "ignored",
          "traceback": [
            "\u001b[0;31m---------------------------------------------------------------------------\u001b[0m",
            "\u001b[0;31mNameError\u001b[0m                                 Traceback (most recent call last)",
            "\u001b[0;32m<ipython-input-33-bfb58f827472>\u001b[0m in \u001b[0;36m<module>\u001b[0;34m()\u001b[0m\n\u001b[0;32m----> 1\u001b[0;31m \u001b[0mprediction\u001b[0m \u001b[0;34m=\u001b[0m \u001b[0mmodel_01\u001b[0m\u001b[0;34m.\u001b[0m\u001b[0mpredict\u001b[0m\u001b[0;34m(\u001b[0m\u001b[0mtrain\u001b[0m\u001b[0;34m)\u001b[0m\u001b[0;34m\u001b[0m\u001b[0;34m\u001b[0m\u001b[0m\n\u001b[0m",
            "\u001b[0;31mNameError\u001b[0m: name 'model_01' is not defined"
          ]
        }
      ]
    },
    {
      "cell_type": "code",
      "metadata": {
        "id": "jhbzYaKggGLP"
      },
      "source": [
        "#plt.plot(history.history['mae'])\n",
        "plt.plot(history.history['val_mae'],label = 'RMSE')\n",
        "#plt.plot(history.history['root_mean_squared_error'])\n",
        "plt.plot(history.history['val_root_mean_squared_error'],label = 'RMSE')\n",
        "plt.xlabel('epoach')\n",
        "plt.ylabel('RMSE,MAE')\n",
        "plt.legend()"
      ],
      "execution_count": null,
      "outputs": []
    },
    {
      "cell_type": "code",
      "metadata": {
        "id": "68TBLOxbgHZ0"
      },
      "source": [
        "plt.plot(history.history['mae'])\n",
        "plt.plot(history.history['val_mae'])\n"
      ],
      "execution_count": null,
      "outputs": []
    },
    {
      "cell_type": "code",
      "metadata": {
        "id": "rt-nSrt9gJa6"
      },
      "source": [
        "Prediction = pd.DataFrame(prediction)"
      ],
      "execution_count": null,
      "outputs": []
    },
    {
      "cell_type": "code",
      "metadata": {
        "id": "-fB0MfIEgLOT"
      },
      "source": [
        "PM06 = train.PM10*0.6"
      ],
      "execution_count": null,
      "outputs": []
    },
    {
      "cell_type": "code",
      "metadata": {
        "id": "Ha0GhhuTgaQ1"
      },
      "source": [
        "last = pd.concat([y,Prediction],axis=1)"
      ],
      "execution_count": null,
      "outputs": []
    },
    {
      "cell_type": "code",
      "metadata": {
        "id": "U9lrlaJEgbaZ"
      },
      "source": [
        "last.columns=['PM25','Prediction']"
      ],
      "execution_count": null,
      "outputs": []
    },
    {
      "cell_type": "code",
      "metadata": {
        "id": "7ejBBwcBgc69"
      },
      "source": [
        "last.corr()"
      ],
      "execution_count": null,
      "outputs": []
    },
    {
      "cell_type": "code",
      "metadata": {
        "id": "0ndyvbUngf7T"
      },
      "source": [
        "last.to_csv('/content/drive/MyDrive/aaa.csv')"
      ],
      "execution_count": null,
      "outputs": []
    },
    {
      "cell_type": "code",
      "metadata": {
        "id": "cK4lvY1GtVJd"
      },
      "source": [
        "last"
      ],
      "execution_count": null,
      "outputs": []
    },
    {
      "cell_type": "markdown",
      "metadata": {
        "id": "G4rJfsWIqfs7"
      },
      "source": [
        "# Sampling"
      ]
    },
    {
      "cell_type": "code",
      "metadata": {
        "id": "FRzfQOjBpJmu"
      },
      "source": [
        "sample = last.sample(n = 200)\n",
        "sample.corr()"
      ],
      "execution_count": null,
      "outputs": []
    },
    {
      "cell_type": "code",
      "metadata": {
        "id": "aJhYhtktp_yW"
      },
      "source": [
        "sample.corr()"
      ],
      "execution_count": null,
      "outputs": []
    },
    {
      "cell_type": "code",
      "metadata": {
        "id": "zNCjoQD_ry1u"
      },
      "source": [
        "sample = sample.drop('PM10_06',axis=1)"
      ],
      "execution_count": null,
      "outputs": []
    },
    {
      "cell_type": "code",
      "metadata": {
        "id": "3qm6wibSrmTx"
      },
      "source": [
        "sample"
      ],
      "execution_count": null,
      "outputs": []
    },
    {
      "cell_type": "code",
      "metadata": {
        "id": "YJR4vvNEpZVc"
      },
      "source": [
        "print(sample.corr())\n",
        "sns.pairplot(sample_pm25,sample_prediction,diag_kind='hist')\n",
        "plt.show()"
      ],
      "execution_count": null,
      "outputs": []
    },
    {
      "cell_type": "code",
      "metadata": {
        "id": "OWNc2lx6uG6P"
      },
      "source": [
        "print(sample.corr())\n",
        "sns.scatterplot(x = 'PM25', y = 'Prediction',data = sample)\n",
        "sns.regplot(x = 'PM25', y = 'Prediction',data = sample)"
      ],
      "execution_count": null,
      "outputs": []
    },
    {
      "cell_type": "code",
      "metadata": {
        "id": "cz7OnXPAtMwH"
      },
      "source": [
        "sample_prediction = pd.DataFrame(sample.Prediction)\n",
        "sample_pm25 = pd.DataFrame(sample.PM25)"
      ],
      "execution_count": null,
      "outputs": []
    },
    {
      "cell_type": "code",
      "metadata": {
        "id": "2zzP5alqtoCi"
      },
      "source": [
        "sample_pm25\n",
        "sample_prediction"
      ],
      "execution_count": null,
      "outputs": []
    },
    {
      "cell_type": "markdown",
      "metadata": {
        "id": "XKSKf0y2XOUP"
      },
      "source": [
        "# model 평가"
      ]
    },
    {
      "cell_type": "code",
      "metadata": {
        "id": "smt6Acxp7czq"
      },
      "source": [
        "model = load_model('/content/drive/MyDrive/pm_data/model_total/3년model_tanh.h5')"
      ],
      "execution_count": null,
      "outputs": []
    },
    {
      "cell_type": "code",
      "metadata": {
        "id": "F_moiI6hXQuo"
      },
      "source": [
        "test_01 = data_01\n",
        "test_02 = data_02\n",
        "test_03 = data_03\n",
        "test_04 = data_04\n",
        "test_05 = data_05\n",
        "test_06 = data_06\n",
        "test_07 = data_07\n",
        "test_08= data_08\n",
        "test_09= data_09\n",
        "test_10= data_10\n",
        "test_11= data_11\n",
        "test_12= data_12\n",
        "#test = test.sample(n = 100000)"
      ],
      "execution_count": null,
      "outputs": []
    },
    {
      "cell_type": "code",
      "metadata": {
        "id": "TgHaFeqQYh3r"
      },
      "source": [
        "def iqr(test):\n",
        "  quartile_1 = test.quantile(0.25)\n",
        "  quartile_3 = test.quantile(0.75)\n",
        "  IQR = quartile_3 - quartile_1\n",
        "  condition = (test < (quartile_1 - 1.5 * IQR)) | (test > (quartile_3 + 1.5 * IQR))\n",
        "  condition = condition.any(axis=1)\n",
        "  search_df = test[condition]\n",
        "\n",
        "  test_iqr = test.drop(search_df.index, axis=0)\n",
        "  test_iqr= test_iqr.reset_index()\n",
        "  test_iqr = test_iqr.drop(['index'],axis=1)\n",
        "\n",
        "  return test_iqr\n",
        "  "
      ],
      "execution_count": null,
      "outputs": []
    },
    {
      "cell_type": "code",
      "metadata": {
        "id": "dhuRcCGq_6vu"
      },
      "source": [
        "test_01 = iqr(test_01)\n",
        "test_02 = iqr(test_02)\n",
        "test_03 = iqr(test_03)\n",
        "test_04 = iqr(test_04)\n",
        "test_05 = iqr(test_05)\n",
        "test_06 = iqr(test_06)\n",
        "test_07 = iqr(test_07)\n",
        "test_08 = iqr(test_08)\n",
        "test_09 = iqr(test_09)\n",
        "test_10 = iqr(test_10)\n",
        "test_11 = iqr(test_11)\n",
        "test_12 = iqr(test_12)"
      ],
      "execution_count": null,
      "outputs": []
    },
    {
      "cell_type": "code",
      "metadata": {
        "id": "-AcxLR8d_O-E",
        "colab": {
          "base_uri": "https://localhost:8080/",
          "height": 172
        },
        "outputId": "ad9e62fb-68d1-44bb-c3ec-98efb21e4c24"
      },
      "source": [
        "#test = iqr(test)"
      ],
      "execution_count": null,
      "outputs": [
        {
          "output_type": "error",
          "ename": "NameError",
          "evalue": "ignored",
          "traceback": [
            "\u001b[0;31m---------------------------------------------------------------------------\u001b[0m",
            "\u001b[0;31mNameError\u001b[0m                                 Traceback (most recent call last)",
            "\u001b[0;32m<ipython-input-38-78959fd0c78b>\u001b[0m in \u001b[0;36m<module>\u001b[0;34m()\u001b[0m\n\u001b[0;32m----> 1\u001b[0;31m \u001b[0mtest\u001b[0m \u001b[0;34m=\u001b[0m \u001b[0miqr\u001b[0m\u001b[0;34m(\u001b[0m\u001b[0mtest\u001b[0m\u001b[0;34m)\u001b[0m\u001b[0;34m\u001b[0m\u001b[0;34m\u001b[0m\u001b[0m\n\u001b[0m",
            "\u001b[0;31mNameError\u001b[0m: name 'test' is not defined"
          ]
        }
      ]
    },
    {
      "cell_type": "code",
      "metadata": {
        "id": "_VpRO4VEYkEC"
      },
      "source": [
        "x_01 = test_01.drop(['PM25','O3'],axis=1)\n",
        "y_01 = test_01.PM25\n",
        "\n",
        "x_02 = test_02.drop(['PM25','O3'],axis=1)\n",
        "y_02 = test_02.PM25\n",
        "\n",
        "x_03 = test_03.drop(['PM25','O3'],axis=1)\n",
        "y_03 = test_03.PM25\n",
        "\n",
        "x_04 = test_04.drop(['PM25','O3'],axis=1)\n",
        "y_04 = test_04.PM25\n",
        "\n",
        "x_05 = test_05.drop(['PM25','O3'],axis=1)\n",
        "y_05 = test_05.PM25\n",
        "\n",
        "x_06 = test_06.drop(['PM25','O3'],axis=1)\n",
        "y_06 = test_06.PM25\n",
        "\n",
        "x_07 = test_07.drop(['PM25','O3'],axis=1)\n",
        "y_07 = test_07.PM25\n",
        "\n",
        "x_08 = test_08.drop(['PM25','O3'],axis=1)\n",
        "y_08 = test_08.PM25\n",
        "\n",
        "x_09 = test_09.drop(['PM25','O3'],axis=1)\n",
        "y_09 = test_09.PM25\n",
        "\n",
        "x_10 = test_10.drop(['PM25','O3'],axis=1)\n",
        "y_10 = test_10.PM25\n",
        "\n",
        "x_11 = test_11.drop(['PM25','O3'],axis=1)\n",
        "y_11 = test_11.PM25\n",
        "\n",
        "x_12 = test_12.drop(['PM25','O3'],axis=1)\n",
        "y_12 = test_12.PM25\n"
      ],
      "execution_count": null,
      "outputs": []
    },
    {
      "cell_type": "code",
      "metadata": {
        "id": "JbpFQm2NXY6m"
      },
      "source": [
        "model.evaluate(x_01,y_01)\n",
        "model.evaluate(x_02,y_02)\n",
        "model.evaluate(x_03,y_03)\n",
        "model.evaluate(x_04,y_04)\n",
        "model.evaluate(x_05,y_05)\n",
        "model.evaluate(x_06,y_06)\n",
        "model.evaluate(x_07,y_07)\n",
        "model.evaluate(x_08,y_08)\n",
        "model.evaluate(x_09,y_09)\n",
        "model.evaluate(x_10,y_10)\n",
        "model.evaluate(x_11,y_11)\n",
        "model.evaluate(x_12,y_12)\n"
      ],
      "execution_count": null,
      "outputs": []
    },
    {
      "cell_type": "code",
      "metadata": {
        "colab": {
          "base_uri": "https://localhost:8080/"
        },
        "id": "Pkj_qaxJEFBl",
        "outputId": "43b50f2f-61e8-42a4-cd80-5f4cd1514017"
      },
      "source": [
        "his_01 = model.evaluate(x_01,y_01)\n",
        "his_02 = model.evaluate(x_02,y_02)\n",
        "his_03 = model.evaluate(x_03,y_03)\n",
        "his_04 = model.evaluate(x_04,y_04)\n",
        "his_05 = model.evaluate(x_05,y_05)\n",
        "his_06 = model.evaluate(x_06,y_06)\n",
        "his_07 = model.evaluate(x_07,y_07)\n",
        "his_08 = model.evaluate(x_08,y_08)\n",
        "his_09 = model.evaluate(x_09,y_09)\n",
        "his_10 = model.evaluate(x_10,y_10)\n",
        "his_11 = model.evaluate(x_11,y_11)\n",
        "his_12 = model.evaluate(x_12,y_12)"
      ],
      "execution_count": null,
      "outputs": [
        {
          "output_type": "stream",
          "name": "stdout",
          "text": [
            "21270/21270 [==============================] - 24s 1ms/step - loss: 68.2073 - mae: 6.2132 - root_mean_squared_error: 8.2588\n",
            "19068/19068 [==============================] - 21s 1ms/step - loss: 76.5044 - mae: 6.4467 - root_mean_squared_error: 8.7467\n",
            "19743/19743 [==============================] - 22s 1ms/step - loss: 86.4167 - mae: 6.9266 - root_mean_squared_error: 9.2961\n",
            "20590/20590 [==============================] - 23s 1ms/step - loss: 53.6270 - mae: 5.5535 - root_mean_squared_error: 7.3230\n",
            "20618/20618 [==============================] - 23s 1ms/step - loss: 53.2595 - mae: 5.5697 - root_mean_squared_error: 7.2979\n",
            "20650/20650 [==============================] - 23s 1ms/step - loss: 40.4174 - mae: 4.8240 - root_mean_squared_error: 6.3575\n",
            "20602/20602 [==============================] - 23s 1ms/step - loss: 27.2334 - mae: 3.9273 - root_mean_squared_error: 5.2186\n",
            "21156/21156 [==============================] - 24s 1ms/step - loss: 29.2127 - mae: 4.1653 - root_mean_squared_error: 5.4049\n",
            "20853/20853 [==============================] - 32s 2ms/step - loss: 23.4523 - mae: 3.7069 - root_mean_squared_error: 4.8428\n",
            "21970/21970 [==============================] - 25s 1ms/step - loss: 28.8180 - mae: 4.1277 - root_mean_squared_error: 5.3682\n",
            "20991/20991 [==============================] - 24s 1ms/step - loss: 45.6108 - mae: 5.1482 - root_mean_squared_error: 6.7536\n",
            "21042/21042 [==============================] - 24s 1ms/step - loss: 51.8797 - mae: 5.4074 - root_mean_squared_error: 7.2028\n"
          ]
        }
      ]
    },
    {
      "cell_type": "code",
      "metadata": {
        "id": "VSh5ZSId-FCS"
      },
      "source": [
        "his_01_pd = pd.DataFrame(his_01)\n",
        "his_02_pd = pd.DataFrame(his_02)\n",
        "his_03_pd = pd.DataFrame(his_03)\n",
        "his_04_pd = pd.DataFrame(his_04)\n",
        "his_05_pd = pd.DataFrame(his_05)\n",
        "his_06_pd = pd.DataFrame(his_06)\n",
        "his_07_pd = pd.DataFrame(his_07)\n",
        "his_08_pd = pd.DataFrame(his_08)\n",
        "his_09_pd = pd.DataFrame(his_09)\n",
        "his_10_pd = pd.DataFrame(his_10)\n",
        "his_11_pd = pd.DataFrame(his_11)\n",
        "his_12_pd = pd.DataFrame(his_12)\n"
      ],
      "execution_count": null,
      "outputs": []
    },
    {
      "cell_type": "code",
      "metadata": {
        "id": "AuGeJhbkBM3M"
      },
      "source": [
        "history_pd = pd.concat([his_01_pd,his_02_pd,his_03_pd,his_04_pd,his_05_pd,his_06_pd,his_07_pd,his_08_pd,his_09_pd,his_10_pd,his_11_pd,his_12_pd],ignore_index=True,axis=1)"
      ],
      "execution_count": null,
      "outputs": []
    },
    {
      "cell_type": "code",
      "metadata": {
        "id": "2X0D_LHgDPoD",
        "colab": {
          "base_uri": "https://localhost:8080/",
          "height": 143
        },
        "outputId": "4a8ba5bf-4943-40ab-8a66-8589b8991ae2"
      },
      "source": [
        "history_pd"
      ],
      "execution_count": null,
      "outputs": [
        {
          "output_type": "execute_result",
          "data": {
            "text/html": [
              "<div>\n",
              "<style scoped>\n",
              "    .dataframe tbody tr th:only-of-type {\n",
              "        vertical-align: middle;\n",
              "    }\n",
              "\n",
              "    .dataframe tbody tr th {\n",
              "        vertical-align: top;\n",
              "    }\n",
              "\n",
              "    .dataframe thead th {\n",
              "        text-align: right;\n",
              "    }\n",
              "</style>\n",
              "<table border=\"1\" class=\"dataframe\">\n",
              "  <thead>\n",
              "    <tr style=\"text-align: right;\">\n",
              "      <th></th>\n",
              "      <th>0</th>\n",
              "      <th>1</th>\n",
              "      <th>2</th>\n",
              "      <th>3</th>\n",
              "      <th>4</th>\n",
              "      <th>5</th>\n",
              "      <th>6</th>\n",
              "      <th>7</th>\n",
              "      <th>8</th>\n",
              "      <th>9</th>\n",
              "      <th>10</th>\n",
              "      <th>11</th>\n",
              "    </tr>\n",
              "  </thead>\n",
              "  <tbody>\n",
              "    <tr>\n",
              "      <th>0</th>\n",
              "      <td>68.207336</td>\n",
              "      <td>76.504410</td>\n",
              "      <td>86.416702</td>\n",
              "      <td>53.627022</td>\n",
              "      <td>53.259541</td>\n",
              "      <td>40.417377</td>\n",
              "      <td>27.233360</td>\n",
              "      <td>29.212732</td>\n",
              "      <td>23.452278</td>\n",
              "      <td>28.817997</td>\n",
              "      <td>45.610779</td>\n",
              "      <td>51.879658</td>\n",
              "    </tr>\n",
              "    <tr>\n",
              "      <th>1</th>\n",
              "      <td>6.213179</td>\n",
              "      <td>6.446709</td>\n",
              "      <td>6.926630</td>\n",
              "      <td>5.553480</td>\n",
              "      <td>5.569680</td>\n",
              "      <td>4.824045</td>\n",
              "      <td>3.927258</td>\n",
              "      <td>4.165326</td>\n",
              "      <td>3.706950</td>\n",
              "      <td>4.127745</td>\n",
              "      <td>5.148244</td>\n",
              "      <td>5.407366</td>\n",
              "    </tr>\n",
              "    <tr>\n",
              "      <th>2</th>\n",
              "      <td>8.258773</td>\n",
              "      <td>8.746680</td>\n",
              "      <td>9.296059</td>\n",
              "      <td>7.323047</td>\n",
              "      <td>7.297914</td>\n",
              "      <td>6.357466</td>\n",
              "      <td>5.218559</td>\n",
              "      <td>5.404881</td>\n",
              "      <td>4.842755</td>\n",
              "      <td>5.368240</td>\n",
              "      <td>6.753575</td>\n",
              "      <td>7.202754</td>\n",
              "    </tr>\n",
              "  </tbody>\n",
              "</table>\n",
              "</div>"
            ],
            "text/plain": [
              "          0          1          2   ...         9          10         11\n",
              "0  68.207336  76.504410  86.416702  ...  28.817997  45.610779  51.879658\n",
              "1   6.213179   6.446709   6.926630  ...   4.127745   5.148244   5.407366\n",
              "2   8.258773   8.746680   9.296059  ...   5.368240   6.753575   7.202754\n",
              "\n",
              "[3 rows x 12 columns]"
            ]
          },
          "metadata": {},
          "execution_count": 48
        }
      ]
    },
    {
      "cell_type": "code",
      "metadata": {
        "id": "dXD7a0W9FmGx"
      },
      "source": [
        "history_pd.columns=['1','2','3','4','5','6','7','8','9','10','11','12']\n",
        "history_pd=history_pd.transpose()"
      ],
      "execution_count": null,
      "outputs": []
    },
    {
      "cell_type": "code",
      "metadata": {
        "id": "QLW9d5HCCTvh"
      },
      "source": [
        "\n",
        "history_pd.columns=['Loss','MAE','RMAE']"
      ],
      "execution_count": null,
      "outputs": []
    },
    {
      "cell_type": "code",
      "metadata": {
        "id": "4LScogdfF_NH"
      },
      "source": [
        "history_month_pd = pd.read_csv('/content/drive/MyDrive/month_evaluate_history.csv')\n",
        "history_month_pd.columns = ['a','Loss','MAE','RMAE']\n",
        "history_month_pd=history_month_pd.drop('a',axis = 1)\n",
        "history_month_pd=history_month_pd.transpose()\n",
        "history_month_pd.columns=['1','2','3','4','5','6','7','8','9','10','11','12']\n",
        "history_month_pd=history_month_pd.transpose()\n"
      ],
      "execution_count": null,
      "outputs": []
    },
    {
      "cell_type": "code",
      "metadata": {
        "id": "LMbH2949DR46"
      },
      "source": [
        "history_total = pd.concat([history_pd,history_month_pd],axis = 1)"
      ],
      "execution_count": null,
      "outputs": []
    },
    {
      "cell_type": "code",
      "metadata": {
        "colab": {
          "base_uri": "https://localhost:8080/",
          "height": 425
        },
        "id": "bY3jUywtAe2h",
        "outputId": "d739e342-8936-47a7-d35f-a6488b1efe8d"
      },
      "source": [
        "history_total.columns = ['Loss_year','MAE_year','RMAE_year','Loss_month','MAE_month','RMAE_month']\n",
        "history_total"
      ],
      "execution_count": null,
      "outputs": [
        {
          "output_type": "execute_result",
          "data": {
            "text/html": [
              "<div>\n",
              "<style scoped>\n",
              "    .dataframe tbody tr th:only-of-type {\n",
              "        vertical-align: middle;\n",
              "    }\n",
              "\n",
              "    .dataframe tbody tr th {\n",
              "        vertical-align: top;\n",
              "    }\n",
              "\n",
              "    .dataframe thead th {\n",
              "        text-align: right;\n",
              "    }\n",
              "</style>\n",
              "<table border=\"1\" class=\"dataframe\">\n",
              "  <thead>\n",
              "    <tr style=\"text-align: right;\">\n",
              "      <th></th>\n",
              "      <th>Loss_year</th>\n",
              "      <th>MAE_year</th>\n",
              "      <th>RMAE_year</th>\n",
              "      <th>Loss_month</th>\n",
              "      <th>MAE_month</th>\n",
              "      <th>RMAE_month</th>\n",
              "    </tr>\n",
              "  </thead>\n",
              "  <tbody>\n",
              "    <tr>\n",
              "      <th>1</th>\n",
              "      <td>68.207336</td>\n",
              "      <td>6.213179</td>\n",
              "      <td>8.258773</td>\n",
              "      <td>66.068588</td>\n",
              "      <td>6.081790</td>\n",
              "      <td>8.128259</td>\n",
              "    </tr>\n",
              "    <tr>\n",
              "      <th>2</th>\n",
              "      <td>76.504410</td>\n",
              "      <td>6.446709</td>\n",
              "      <td>8.746680</td>\n",
              "      <td>69.271011</td>\n",
              "      <td>6.176603</td>\n",
              "      <td>8.322921</td>\n",
              "    </tr>\n",
              "    <tr>\n",
              "      <th>3</th>\n",
              "      <td>86.416702</td>\n",
              "      <td>6.926630</td>\n",
              "      <td>9.296059</td>\n",
              "      <td>73.053200</td>\n",
              "      <td>6.521116</td>\n",
              "      <td>8.547116</td>\n",
              "    </tr>\n",
              "    <tr>\n",
              "      <th>4</th>\n",
              "      <td>53.627022</td>\n",
              "      <td>5.553480</td>\n",
              "      <td>7.323047</td>\n",
              "      <td>46.568161</td>\n",
              "      <td>5.253261</td>\n",
              "      <td>6.824087</td>\n",
              "    </tr>\n",
              "    <tr>\n",
              "      <th>5</th>\n",
              "      <td>53.259541</td>\n",
              "      <td>5.569680</td>\n",
              "      <td>7.297914</td>\n",
              "      <td>52.841999</td>\n",
              "      <td>5.568677</td>\n",
              "      <td>7.269250</td>\n",
              "    </tr>\n",
              "    <tr>\n",
              "      <th>6</th>\n",
              "      <td>40.417377</td>\n",
              "      <td>4.824045</td>\n",
              "      <td>6.357466</td>\n",
              "      <td>36.948513</td>\n",
              "      <td>4.631161</td>\n",
              "      <td>6.078529</td>\n",
              "    </tr>\n",
              "    <tr>\n",
              "      <th>7</th>\n",
              "      <td>27.233360</td>\n",
              "      <td>3.927258</td>\n",
              "      <td>5.218559</td>\n",
              "      <td>23.670725</td>\n",
              "      <td>3.672928</td>\n",
              "      <td>4.865257</td>\n",
              "    </tr>\n",
              "    <tr>\n",
              "      <th>8</th>\n",
              "      <td>29.212732</td>\n",
              "      <td>4.165326</td>\n",
              "      <td>5.404881</td>\n",
              "      <td>25.978685</td>\n",
              "      <td>3.935761</td>\n",
              "      <td>5.096929</td>\n",
              "    </tr>\n",
              "    <tr>\n",
              "      <th>9</th>\n",
              "      <td>23.452278</td>\n",
              "      <td>3.706950</td>\n",
              "      <td>4.842755</td>\n",
              "      <td>22.971481</td>\n",
              "      <td>3.661315</td>\n",
              "      <td>4.792857</td>\n",
              "    </tr>\n",
              "    <tr>\n",
              "      <th>10</th>\n",
              "      <td>28.817997</td>\n",
              "      <td>4.127745</td>\n",
              "      <td>5.368240</td>\n",
              "      <td>26.509747</td>\n",
              "      <td>3.976835</td>\n",
              "      <td>5.148762</td>\n",
              "    </tr>\n",
              "    <tr>\n",
              "      <th>11</th>\n",
              "      <td>45.610779</td>\n",
              "      <td>5.148244</td>\n",
              "      <td>6.753575</td>\n",
              "      <td>48.082825</td>\n",
              "      <td>5.253405</td>\n",
              "      <td>6.934178</td>\n",
              "    </tr>\n",
              "    <tr>\n",
              "      <th>12</th>\n",
              "      <td>51.879658</td>\n",
              "      <td>5.407366</td>\n",
              "      <td>7.202754</td>\n",
              "      <td>43.697968</td>\n",
              "      <td>4.987211</td>\n",
              "      <td>6.610444</td>\n",
              "    </tr>\n",
              "  </tbody>\n",
              "</table>\n",
              "</div>"
            ],
            "text/plain": [
              "    Loss_year  MAE_year  RMAE_year  Loss_month  MAE_month  RMAE_month\n",
              "1   68.207336  6.213179   8.258773   66.068588   6.081790    8.128259\n",
              "2   76.504410  6.446709   8.746680   69.271011   6.176603    8.322921\n",
              "3   86.416702  6.926630   9.296059   73.053200   6.521116    8.547116\n",
              "4   53.627022  5.553480   7.323047   46.568161   5.253261    6.824087\n",
              "5   53.259541  5.569680   7.297914   52.841999   5.568677    7.269250\n",
              "6   40.417377  4.824045   6.357466   36.948513   4.631161    6.078529\n",
              "7   27.233360  3.927258   5.218559   23.670725   3.672928    4.865257\n",
              "8   29.212732  4.165326   5.404881   25.978685   3.935761    5.096929\n",
              "9   23.452278  3.706950   4.842755   22.971481   3.661315    4.792857\n",
              "10  28.817997  4.127745   5.368240   26.509747   3.976835    5.148762\n",
              "11  45.610779  5.148244   6.753575   48.082825   5.253405    6.934178\n",
              "12  51.879658  5.407366   7.202754   43.697968   4.987211    6.610444"
            ]
          },
          "metadata": {},
          "execution_count": 69
        }
      ]
    },
    {
      "cell_type": "code",
      "metadata": {
        "id": "2_vZDBMZHhjW"
      },
      "source": [
        "history_total.to_csv(\"/content/drive/MyDrive/history.csv\")"
      ],
      "execution_count": null,
      "outputs": []
    },
    {
      "cell_type": "code",
      "metadata": {
        "id": "48mif5odzN8R"
      },
      "source": [
        ""
      ],
      "execution_count": null,
      "outputs": []
    },
    {
      "cell_type": "code",
      "metadata": {
        "colab": {
          "base_uri": "https://localhost:8080/",
          "height": 425
        },
        "id": "nQ5Y99wZ_vtS",
        "outputId": "5bbc9fc9-8869-40ce-ab65-54bf51929ebc"
      },
      "source": [
        "history_month_pd"
      ],
      "execution_count": null,
      "outputs": [
        {
          "output_type": "execute_result",
          "data": {
            "text/html": [
              "<div>\n",
              "<style scoped>\n",
              "    .dataframe tbody tr th:only-of-type {\n",
              "        vertical-align: middle;\n",
              "    }\n",
              "\n",
              "    .dataframe tbody tr th {\n",
              "        vertical-align: top;\n",
              "    }\n",
              "\n",
              "    .dataframe thead th {\n",
              "        text-align: right;\n",
              "    }\n",
              "</style>\n",
              "<table border=\"1\" class=\"dataframe\">\n",
              "  <thead>\n",
              "    <tr style=\"text-align: right;\">\n",
              "      <th></th>\n",
              "      <th>Loss</th>\n",
              "      <th>MAE</th>\n",
              "      <th>RMAE</th>\n",
              "    </tr>\n",
              "  </thead>\n",
              "  <tbody>\n",
              "    <tr>\n",
              "      <th>1</th>\n",
              "      <td>66.068588</td>\n",
              "      <td>6.081790</td>\n",
              "      <td>8.128259</td>\n",
              "    </tr>\n",
              "    <tr>\n",
              "      <th>2</th>\n",
              "      <td>69.271011</td>\n",
              "      <td>6.176603</td>\n",
              "      <td>8.322921</td>\n",
              "    </tr>\n",
              "    <tr>\n",
              "      <th>3</th>\n",
              "      <td>73.053200</td>\n",
              "      <td>6.521116</td>\n",
              "      <td>8.547116</td>\n",
              "    </tr>\n",
              "    <tr>\n",
              "      <th>4</th>\n",
              "      <td>46.568161</td>\n",
              "      <td>5.253261</td>\n",
              "      <td>6.824087</td>\n",
              "    </tr>\n",
              "    <tr>\n",
              "      <th>5</th>\n",
              "      <td>52.841999</td>\n",
              "      <td>5.568677</td>\n",
              "      <td>7.269250</td>\n",
              "    </tr>\n",
              "    <tr>\n",
              "      <th>6</th>\n",
              "      <td>36.948513</td>\n",
              "      <td>4.631161</td>\n",
              "      <td>6.078529</td>\n",
              "    </tr>\n",
              "    <tr>\n",
              "      <th>7</th>\n",
              "      <td>23.670725</td>\n",
              "      <td>3.672928</td>\n",
              "      <td>4.865257</td>\n",
              "    </tr>\n",
              "    <tr>\n",
              "      <th>8</th>\n",
              "      <td>25.978685</td>\n",
              "      <td>3.935761</td>\n",
              "      <td>5.096929</td>\n",
              "    </tr>\n",
              "    <tr>\n",
              "      <th>9</th>\n",
              "      <td>22.971481</td>\n",
              "      <td>3.661315</td>\n",
              "      <td>4.792857</td>\n",
              "    </tr>\n",
              "    <tr>\n",
              "      <th>10</th>\n",
              "      <td>26.509747</td>\n",
              "      <td>3.976835</td>\n",
              "      <td>5.148762</td>\n",
              "    </tr>\n",
              "    <tr>\n",
              "      <th>11</th>\n",
              "      <td>48.082825</td>\n",
              "      <td>5.253405</td>\n",
              "      <td>6.934178</td>\n",
              "    </tr>\n",
              "    <tr>\n",
              "      <th>12</th>\n",
              "      <td>43.697968</td>\n",
              "      <td>4.987211</td>\n",
              "      <td>6.610444</td>\n",
              "    </tr>\n",
              "  </tbody>\n",
              "</table>\n",
              "</div>"
            ],
            "text/plain": [
              "         Loss       MAE      RMAE\n",
              "1   66.068588  6.081790  8.128259\n",
              "2   69.271011  6.176603  8.322921\n",
              "3   73.053200  6.521116  8.547116\n",
              "4   46.568161  5.253261  6.824087\n",
              "5   52.841999  5.568677  7.269250\n",
              "6   36.948513  4.631161  6.078529\n",
              "7   23.670725  3.672928  4.865257\n",
              "8   25.978685  3.935761  5.096929\n",
              "9   22.971481  3.661315  4.792857\n",
              "10  26.509747  3.976835  5.148762\n",
              "11  48.082825  5.253405  6.934178\n",
              "12  43.697968  4.987211  6.610444"
            ]
          },
          "metadata": {},
          "execution_count": 61
        }
      ]
    },
    {
      "cell_type": "code",
      "metadata": {
        "colab": {
          "base_uri": "https://localhost:8080/",
          "height": 297
        },
        "id": "Nw28Wb40E3xz",
        "outputId": "e9176b35-dcac-4b2c-aa82-a320b00a0c07"
      },
      "source": [
        "plt.plot(history_pd.RMAE,label = 'year_RMSE')\n",
        "plt.plot(history_month_pd.RMAE,label = 'month_RMSE')\n",
        "\n",
        "plt.xlabel('month')\n",
        "plt.ylabel('RMSE')\n",
        "plt.legend()"
      ],
      "execution_count": null,
      "outputs": [
        {
          "output_type": "execute_result",
          "data": {
            "text/plain": [
              "<matplotlib.legend.Legend at 0x7f6e58840a10>"
            ]
          },
          "metadata": {},
          "execution_count": 57
        },
        {
          "output_type": "display_data",
          "data": {
            "image/png": "[encoded data removed]",
            "text/plain": [
              "<Figure size 432x288 with 1 Axes>"
            ]
          },
          "metadata": {
            "needs_background": "light"
          }
        }
      ]
    },
    {
      "cell_type": "code",
      "metadata": {
        "id": "d-zoMUyLHZvk"
      },
      "source": [
        "history_month_pd"
      ],
      "execution_count": null,
      "outputs": []
    },
    {
      "cell_type": "code",
      "metadata": {
        "id": "iPQFp8_PJH3D"
      },
      "source": [
        "history_pd"
      ],
      "execution_count": null,
      "outputs": []
    },
    {
      "cell_type": "code",
      "metadata": {
        "id": "a0CodqAeHnXY"
      },
      "source": [
        "history_month_pd.to_csv('/content/drive/MyDrive/evaluate_month.csv')\n",
        "history_pd.to_csv('/content/drive/MyDrive/evaluate_year.csv')"
      ],
      "execution_count": null,
      "outputs": []
    },
    {
      "cell_type": "code",
      "metadata": {
        "id": "tiFO6RUojqMW"
      },
      "source": [
        "print(data_01.PM25.mean(),data_02.PM25.mean(),data_03.PM25.mean(),data_04.PM25.mean(),data_05.PM25.mean(),data_06.PM25.mean(),data_07.PM25.mean()\n",
        ",data_08.PM25.mean(),data_09.PM25.mean(),data_10.PM25.mean(),data_11.PM25.mean(),data_12.PM25.mean())"
      ],
      "execution_count": null,
      "outputs": []
    },
    {
      "cell_type": "markdown",
      "metadata": {
        "id": "7SiUU28wIgwy"
      },
      "source": [
        "# 모델 저장"
      ]
    },
    {
      "cell_type": "code",
      "metadata": {
        "id": "9eB1PwXgJ26-"
      },
      "source": [
        "from tensorflow.python.keras.models import load_model\n",
        "model.save('/content/drive/MyDrive/pm_data/model_total/3년model_tanh.h5')"
      ],
      "execution_count": null,
      "outputs": []
    },
    {
      "cell_type": "code",
      "metadata": {
        "id": "tsBGwWGJgVNV"
      },
      "source": [
        ""
      ],
      "execution_count": null,
      "outputs": []
    }
  ]
}