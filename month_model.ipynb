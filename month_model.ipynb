{
  "nbformat": 4,
  "nbformat_minor": 0,
  "metadata": {
    "colab": {
      "name": "월별_모델생성_샘플포함.ipynb",
      "provenance": [],
      "collapsed_sections": []
    },
    "kernelspec": {
      "name": "python3",
      "display_name": "Python 3"
    },
    "language_info": {
      "name": "python"
    }
  },
  "cells": [
    {
      "cell_type": "code",
      "metadata": {
        "colab": {
          "base_uri": "https://localhost:8080/"
        },
        "id": "lA-rHDx6ahLl",
        "outputId": "0db83ef4-f622-4ed7-b4c4-2ef95e1decbe"
      },
      "source": [
        "from google.colab import drive\n",
        "drive.mount('/content/drive')"
      ],
      "execution_count": null,
      "outputs": [
        {
          "output_type": "stream",
          "name": "stdout",
          "text": [
            "Drive already mounted at /content/drive; to attempt to forcibly remount, call drive.mount(\"/content/drive\", force_remount=True).\n"
          ]
        }
      ]
    },
    {
      "cell_type": "code",
      "metadata": {
        "id": "C1_0GgIXaiVq"
      },
      "source": [
        "import tensorflow as tf\n",
        "import numpy as np\n",
        "import pandas as pd\n",
        "import matplotlib.pyplot as plt\n",
        "import seaborn as sns\n",
        "from tensorflow.keras.models import Sequential\n",
        "from tensorflow.keras.layers import Dense\n",
        "from tensorflow.keras.layers import Flatten\n",
        "from tensorflow.keras.utils import plot_model\n",
        "import seaborn as sns\n",
        "from tensorflow.keras.layers import BatchNormalization,Dropout"
      ],
      "execution_count": null,
      "outputs": []
    },
    {
      "cell_type": "code",
      "metadata": {
        "id": "3Ow5IeYcaqDE"
      },
      "source": [
        "mon1= '/content/drive/MyDrive/pm_data/1월.csv'\n",
        "mon2= '/content/drive/MyDrive/pm_data/2월.csv'\n",
        "mon3= '/content/drive/MyDrive/pm_data/3월.csv'\n",
        "mon4= '/content/drive/MyDrive/pm_data/4월.csv'\n",
        "mon5= '/content/drive/MyDrive/pm_data/5월.csv'\n",
        "mon6= '/content/drive/MyDrive/pm_data/6월.csv'\n",
        "mon7= '/content/drive/MyDrive/pm_data/7월.csv'\n",
        "mon8= '/content/drive/MyDrive/pm_data/8월.csv'\n",
        "mon9= '/content/drive/MyDrive/pm_data/9월.csv'\n",
        "mon10= '/content/drive/MyDrive/pm_data/10월.csv'\n",
        "mon11= '/content/drive/MyDrive/pm_data/11월.csv'\n",
        "mon12= '/content/drive/MyDrive/pm_data/12월.csv'"
      ],
      "execution_count": null,
      "outputs": []
    },
    {
      "cell_type": "code",
      "metadata": {
        "id": "DnovayZUUWJl"
      },
      "source": [
        ""
      ],
      "execution_count": null,
      "outputs": []
    },
    {
      "cell_type": "code",
      "metadata": {
        "colab": {
          "base_uri": "https://localhost:8080/"
        },
        "id": "XCWLw0P7as-0",
        "outputId": "fe4e66d1-ec18-4347-a442-59bdeb7ee8f0"
      },
      "source": [
        "mon1 = pd.read_csv(mon1,encoding='CP949')\n",
        "mon2 = pd.read_csv(mon2,encoding='CP949')\n",
        "mon3 = pd.read_csv(mon3,encoding='CP949')\n",
        "mon4 = pd.read_csv(mon4,encoding='CP949')\n",
        "mon5 = pd.read_csv(mon5,encoding='CP949')\n",
        "mon6 = pd.read_csv(mon6,encoding='CP949')\n",
        "mon7 = pd.read_csv(mon7,encoding='CP949')\n",
        "mon8 = pd.read_csv(mon8,encoding='CP949')\n",
        "mon9 = pd.read_csv(mon9,encoding='CP949')\n",
        "mon10 = pd.read_csv(mon10,encoding='CP949')\n",
        "mon11 = pd.read_csv(mon11,encoding='CP949')\n",
        "mon12 = pd.read_csv(mon12,encoding='CP949')"
      ],
      "execution_count": null,
      "outputs": [
        {
          "output_type": "stream",
          "name": "stderr",
          "text": [
            "/usr/local/lib/python3.7/dist-packages/IPython/core/interactiveshell.py:2718: DtypeWarning: Columns (0,1,3,11) have mixed types.Specify dtype option on import or set low_memory=False.\n",
            "  interactivity=interactivity, compiler=compiler, result=result)\n",
            "/usr/local/lib/python3.7/dist-packages/IPython/core/interactiveshell.py:2718: DtypeWarning: Columns (0,1,3) have mixed types.Specify dtype option on import or set low_memory=False.\n",
            "  interactivity=interactivity, compiler=compiler, result=result)\n"
          ]
        }
      ]
    },
    {
      "cell_type": "code",
      "metadata": {
        "id": "-vzp4E_4audd"
      },
      "source": [
        ""
      ],
      "execution_count": null,
      "outputs": []
    },
    {
      "cell_type": "markdown",
      "metadata": {
        "id": "G5x0wkwga0T4"
      },
      "source": [
        "# 모델 해당 월 선택"
      ]
    },
    {
      "cell_type": "code",
      "metadata": {
        "id": "5A08eLSYa6hE"
      },
      "source": [
        "#data = pd.concat([mon1,mon2,mon3,mon4,mon5,mon6,mon7,mon8,mon9,mon10,mon11,mon12],ignore_index=True,axis=0)  >>1년 전체\n",
        "data = mon12  #12월"
      ],
      "execution_count": null,
      "outputs": []
    },
    {
      "cell_type": "code",
      "metadata": {
        "id": "J2xUzeQVsmKi"
      },
      "source": [
        ""
      ],
      "execution_count": null,
      "outputs": []
    },
    {
      "cell_type": "code",
      "metadata": {
        "id": "IgYClRqKbEiH"
      },
      "source": [
        "data = data.dropna()"
      ],
      "execution_count": null,
      "outputs": []
    },
    {
      "cell_type": "code",
      "metadata": {
        "id": "oho7lgTWstYe"
      },
      "source": [
        "#data = data.sample(n=1000)"
      ],
      "execution_count": null,
      "outputs": []
    },
    {
      "cell_type": "code",
      "metadata": {
        "id": "5kArmfDQbGE3"
      },
      "source": [
        "data = data.drop('Time',axis=1)\n"
      ],
      "execution_count": null,
      "outputs": []
    },
    {
      "cell_type": "code",
      "metadata": {
        "id": "4IG7JCLibHXt"
      },
      "source": [
        "data = data.drop(['지역','망','측정소코드','측정소명','측정일시','주소'],axis=1)"
      ],
      "execution_count": null,
      "outputs": []
    },
    {
      "cell_type": "code",
      "metadata": {
        "id": "qbcwQeu6bJSJ"
      },
      "source": [
        "data = data.reset_index()"
      ],
      "execution_count": null,
      "outputs": []
    },
    {
      "cell_type": "code",
      "metadata": {
        "id": "AnnCLWxOcPrI"
      },
      "source": [
        "data.columns = ['a','SO2','CO','O3','NO2','PM10','PM25']\n",
        "data = data.drop('a',axis=1)"
      ],
      "execution_count": null,
      "outputs": []
    },
    {
      "cell_type": "code",
      "metadata": {
        "colab": {
          "base_uri": "https://localhost:8080/",
          "height": 419
        },
        "id": "6qLayZwzcdSD",
        "outputId": "a957f15c-5232-45a4-b71f-9ccd8b0dfb01"
      },
      "source": [
        "#이상치 제거 안한 데이터\n",
        "data"
      ],
      "execution_count": null,
      "outputs": [
        {
          "output_type": "execute_result",
          "data": {
            "text/html": [
              "<div>\n",
              "<style scoped>\n",
              "    .dataframe tbody tr th:only-of-type {\n",
              "        vertical-align: middle;\n",
              "    }\n",
              "\n",
              "    .dataframe tbody tr th {\n",
              "        vertical-align: top;\n",
              "    }\n",
              "\n",
              "    .dataframe thead th {\n",
              "        text-align: right;\n",
              "    }\n",
              "</style>\n",
              "<table border=\"1\" class=\"dataframe\">\n",
              "  <thead>\n",
              "    <tr style=\"text-align: right;\">\n",
              "      <th></th>\n",
              "      <th>SO2</th>\n",
              "      <th>CO</th>\n",
              "      <th>O3</th>\n",
              "      <th>NO2</th>\n",
              "      <th>PM10</th>\n",
              "      <th>PM25</th>\n",
              "    </tr>\n",
              "  </thead>\n",
              "  <tbody>\n",
              "    <tr>\n",
              "      <th>0</th>\n",
              "      <td>0.003</td>\n",
              "      <td>0.6</td>\n",
              "      <td>0.017</td>\n",
              "      <td>0.024</td>\n",
              "      <td>50.0</td>\n",
              "      <td>26.0</td>\n",
              "    </tr>\n",
              "    <tr>\n",
              "      <th>1</th>\n",
              "      <td>0.003</td>\n",
              "      <td>0.5</td>\n",
              "      <td>0.024</td>\n",
              "      <td>0.015</td>\n",
              "      <td>42.0</td>\n",
              "      <td>24.0</td>\n",
              "    </tr>\n",
              "    <tr>\n",
              "      <th>2</th>\n",
              "      <td>0.003</td>\n",
              "      <td>0.4</td>\n",
              "      <td>0.026</td>\n",
              "      <td>0.013</td>\n",
              "      <td>36.0</td>\n",
              "      <td>19.0</td>\n",
              "    </tr>\n",
              "    <tr>\n",
              "      <th>3</th>\n",
              "      <td>0.003</td>\n",
              "      <td>0.5</td>\n",
              "      <td>0.023</td>\n",
              "      <td>0.015</td>\n",
              "      <td>34.0</td>\n",
              "      <td>17.0</td>\n",
              "    </tr>\n",
              "    <tr>\n",
              "      <th>4</th>\n",
              "      <td>0.003</td>\n",
              "      <td>0.5</td>\n",
              "      <td>0.017</td>\n",
              "      <td>0.022</td>\n",
              "      <td>36.0</td>\n",
              "      <td>18.0</td>\n",
              "    </tr>\n",
              "    <tr>\n",
              "      <th>...</th>\n",
              "      <td>...</td>\n",
              "      <td>...</td>\n",
              "      <td>...</td>\n",
              "      <td>...</td>\n",
              "      <td>...</td>\n",
              "      <td>...</td>\n",
              "    </tr>\n",
              "    <tr>\n",
              "      <th>365599</th>\n",
              "      <td>0.005</td>\n",
              "      <td>0.4</td>\n",
              "      <td>0.036</td>\n",
              "      <td>0.004</td>\n",
              "      <td>20.0</td>\n",
              "      <td>9.0</td>\n",
              "    </tr>\n",
              "    <tr>\n",
              "      <th>365600</th>\n",
              "      <td>0.004</td>\n",
              "      <td>0.3</td>\n",
              "      <td>0.037</td>\n",
              "      <td>0.003</td>\n",
              "      <td>20.0</td>\n",
              "      <td>10.0</td>\n",
              "    </tr>\n",
              "    <tr>\n",
              "      <th>365601</th>\n",
              "      <td>0.004</td>\n",
              "      <td>0.3</td>\n",
              "      <td>0.037</td>\n",
              "      <td>0.003</td>\n",
              "      <td>16.0</td>\n",
              "      <td>8.0</td>\n",
              "    </tr>\n",
              "    <tr>\n",
              "      <th>365602</th>\n",
              "      <td>0.004</td>\n",
              "      <td>0.3</td>\n",
              "      <td>0.037</td>\n",
              "      <td>0.003</td>\n",
              "      <td>14.0</td>\n",
              "      <td>12.0</td>\n",
              "    </tr>\n",
              "    <tr>\n",
              "      <th>365603</th>\n",
              "      <td>0.005</td>\n",
              "      <td>0.3</td>\n",
              "      <td>0.036</td>\n",
              "      <td>0.004</td>\n",
              "      <td>15.0</td>\n",
              "      <td>8.0</td>\n",
              "    </tr>\n",
              "  </tbody>\n",
              "</table>\n",
              "<p>365604 rows × 6 columns</p>\n",
              "</div>"
            ],
            "text/plain": [
              "          SO2   CO     O3    NO2  PM10  PM25\n",
              "0       0.003  0.6  0.017  0.024  50.0  26.0\n",
              "1       0.003  0.5  0.024  0.015  42.0  24.0\n",
              "2       0.003  0.4  0.026  0.013  36.0  19.0\n",
              "3       0.003  0.5  0.023  0.015  34.0  17.0\n",
              "4       0.003  0.5  0.017  0.022  36.0  18.0\n",
              "...       ...  ...    ...    ...   ...   ...\n",
              "365599  0.005  0.4  0.036  0.004  20.0   9.0\n",
              "365600  0.004  0.3  0.037  0.003  20.0  10.0\n",
              "365601  0.004  0.3  0.037  0.003  16.0   8.0\n",
              "365602  0.004  0.3  0.037  0.003  14.0  12.0\n",
              "365603  0.005  0.3  0.036  0.004  15.0   8.0\n",
              "\n",
              "[365604 rows x 6 columns]"
            ]
          },
          "metadata": {},
          "execution_count": 13
        }
      ]
    },
    {
      "cell_type": "code",
      "metadata": {
        "colab": {
          "base_uri": "https://localhost:8080/",
          "height": 235
        },
        "id": "KJCdtbEnbK1X",
        "outputId": "9fccccb9-2108-4685-e6d2-b025c7780a00"
      },
      "source": [
        "data.corr()"
      ],
      "execution_count": null,
      "outputs": [
        {
          "output_type": "execute_result",
          "data": {
            "text/html": [
              "<div>\n",
              "<style scoped>\n",
              "    .dataframe tbody tr th:only-of-type {\n",
              "        vertical-align: middle;\n",
              "    }\n",
              "\n",
              "    .dataframe tbody tr th {\n",
              "        vertical-align: top;\n",
              "    }\n",
              "\n",
              "    .dataframe thead th {\n",
              "        text-align: right;\n",
              "    }\n",
              "</style>\n",
              "<table border=\"1\" class=\"dataframe\">\n",
              "  <thead>\n",
              "    <tr style=\"text-align: right;\">\n",
              "      <th></th>\n",
              "      <th>SO2</th>\n",
              "      <th>CO</th>\n",
              "      <th>O3</th>\n",
              "      <th>NO2</th>\n",
              "      <th>PM10</th>\n",
              "      <th>PM25</th>\n",
              "    </tr>\n",
              "  </thead>\n",
              "  <tbody>\n",
              "    <tr>\n",
              "      <th>SO2</th>\n",
              "      <td>1.000000</td>\n",
              "      <td>0.245138</td>\n",
              "      <td>-0.090385</td>\n",
              "      <td>0.213536</td>\n",
              "      <td>0.187233</td>\n",
              "      <td>0.154870</td>\n",
              "    </tr>\n",
              "    <tr>\n",
              "      <th>CO</th>\n",
              "      <td>0.245138</td>\n",
              "      <td>1.000000</td>\n",
              "      <td>-0.518118</td>\n",
              "      <td>0.625209</td>\n",
              "      <td>0.562888</td>\n",
              "      <td>0.558334</td>\n",
              "    </tr>\n",
              "    <tr>\n",
              "      <th>O3</th>\n",
              "      <td>-0.090385</td>\n",
              "      <td>-0.518118</td>\n",
              "      <td>1.000000</td>\n",
              "      <td>-0.726425</td>\n",
              "      <td>-0.300412</td>\n",
              "      <td>-0.330025</td>\n",
              "    </tr>\n",
              "    <tr>\n",
              "      <th>NO2</th>\n",
              "      <td>0.213536</td>\n",
              "      <td>0.625209</td>\n",
              "      <td>-0.726425</td>\n",
              "      <td>1.000000</td>\n",
              "      <td>0.476463</td>\n",
              "      <td>0.453773</td>\n",
              "    </tr>\n",
              "    <tr>\n",
              "      <th>PM10</th>\n",
              "      <td>0.187233</td>\n",
              "      <td>0.562888</td>\n",
              "      <td>-0.300412</td>\n",
              "      <td>0.476463</td>\n",
              "      <td>1.000000</td>\n",
              "      <td>0.912409</td>\n",
              "    </tr>\n",
              "    <tr>\n",
              "      <th>PM25</th>\n",
              "      <td>0.154870</td>\n",
              "      <td>0.558334</td>\n",
              "      <td>-0.330025</td>\n",
              "      <td>0.453773</td>\n",
              "      <td>0.912409</td>\n",
              "      <td>1.000000</td>\n",
              "    </tr>\n",
              "  </tbody>\n",
              "</table>\n",
              "</div>"
            ],
            "text/plain": [
              "           SO2        CO        O3       NO2      PM10      PM25\n",
              "SO2   1.000000  0.245138 -0.090385  0.213536  0.187233  0.154870\n",
              "CO    0.245138  1.000000 -0.518118  0.625209  0.562888  0.558334\n",
              "O3   -0.090385 -0.518118  1.000000 -0.726425 -0.300412 -0.330025\n",
              "NO2   0.213536  0.625209 -0.726425  1.000000  0.476463  0.453773\n",
              "PM10  0.187233  0.562888 -0.300412  0.476463  1.000000  0.912409\n",
              "PM25  0.154870  0.558334 -0.330025  0.453773  0.912409  1.000000"
            ]
          },
          "metadata": {},
          "execution_count": 14
        }
      ]
    },
    {
      "cell_type": "markdown",
      "metadata": {
        "id": "laamQSNfbOUI"
      },
      "source": [
        "# data 이상치 찾기"
      ]
    },
    {
      "cell_type": "code",
      "metadata": {
        "colab": {
          "base_uri": "https://localhost:8080/"
        },
        "id": "1IZ_Vt3mbjHy",
        "outputId": "83a7ef58-4efc-4323-8fb5-586532c15268"
      },
      "source": [
        "# 이상치 찾기\n",
        "quartile_1 = data.quantile(0.25)\n",
        "quartile_3 = data.quantile(0.75)\n",
        "IQR = quartile_3 - quartile_1\n",
        "condition = (data < (quartile_1 - 1.5 * IQR)) | (data > (quartile_3 + 1.5 * IQR))\n",
        "condition = condition.any(axis=1)\n",
        "search_df = data[condition]\n",
        "print(search_df)"
      ],
      "execution_count": null,
      "outputs": [
        {
          "output_type": "stream",
          "name": "stdout",
          "text": [
            "          SO2   CO     O3    NO2   PM10  PM25\n",
            "102     0.003  0.9  0.003  0.055   47.0  25.0\n",
            "104     0.005  0.9  0.005  0.055   60.0  35.0\n",
            "125     0.003  0.9  0.003  0.053   49.0  32.0\n",
            "126     0.004  0.9  0.003  0.052   49.0  32.0\n",
            "127     0.004  1.0  0.005  0.056   54.0  35.0\n",
            "...       ...  ...    ...    ...    ...   ...\n",
            "365421  0.005  0.7  0.029  0.012  105.0  72.0\n",
            "365472  0.006  0.6  0.034  0.009   92.0  55.0\n",
            "365485  0.005  0.7  0.025  0.023   91.0  53.0\n",
            "365486  0.004  0.7  0.021  0.022  100.0  70.0\n",
            "365487  0.004  0.6  0.020  0.021   94.0  72.0\n",
            "\n",
            "[48648 rows x 6 columns]\n"
          ]
        }
      ]
    },
    {
      "cell_type": "code",
      "metadata": {
        "colab": {
          "base_uri": "https://localhost:8080/"
        },
        "id": "rCV9hkbjbkeh",
        "outputId": "50ce319b-c170-4a84-86b1-3e620dbe8a8c"
      },
      "source": [
        "data_iqr = data.drop(search_df.index, axis=0)\n",
        "print(data_iqr)"
      ],
      "execution_count": null,
      "outputs": [
        {
          "output_type": "stream",
          "name": "stdout",
          "text": [
            "          SO2   CO     O3    NO2  PM10  PM25\n",
            "0       0.003  0.6  0.017  0.024  50.0  26.0\n",
            "1       0.003  0.5  0.024  0.015  42.0  24.0\n",
            "2       0.003  0.4  0.026  0.013  36.0  19.0\n",
            "3       0.003  0.5  0.023  0.015  34.0  17.0\n",
            "4       0.003  0.5  0.017  0.022  36.0  18.0\n",
            "...       ...  ...    ...    ...   ...   ...\n",
            "365599  0.005  0.4  0.036  0.004  20.0   9.0\n",
            "365600  0.004  0.3  0.037  0.003  20.0  10.0\n",
            "365601  0.004  0.3  0.037  0.003  16.0   8.0\n",
            "365602  0.004  0.3  0.037  0.003  14.0  12.0\n",
            "365603  0.005  0.3  0.036  0.004  15.0   8.0\n",
            "\n",
            "[316956 rows x 6 columns]\n"
          ]
        }
      ]
    },
    {
      "cell_type": "code",
      "metadata": {
        "id": "Wrj4rZ53bsAs"
      },
      "source": [
        "data_iqr= data_iqr.reset_index()"
      ],
      "execution_count": null,
      "outputs": []
    },
    {
      "cell_type": "code",
      "metadata": {
        "colab": {
          "base_uri": "https://localhost:8080/",
          "height": 419
        },
        "id": "2hdP4QhDbumN",
        "outputId": "a128acf9-5094-4350-dc2d-53b1e69034b5"
      },
      "source": [
        "data_iqr.columns = ['a','SO2','CO','O3','NO2','PM10','PM25']\n",
        "data_iqr = data_iqr.drop(['a'],axis=1)\n",
        "data_iqr"
      ],
      "execution_count": null,
      "outputs": [
        {
          "output_type": "execute_result",
          "data": {
            "text/html": [
              "<div>\n",
              "<style scoped>\n",
              "    .dataframe tbody tr th:only-of-type {\n",
              "        vertical-align: middle;\n",
              "    }\n",
              "\n",
              "    .dataframe tbody tr th {\n",
              "        vertical-align: top;\n",
              "    }\n",
              "\n",
              "    .dataframe thead th {\n",
              "        text-align: right;\n",
              "    }\n",
              "</style>\n",
              "<table border=\"1\" class=\"dataframe\">\n",
              "  <thead>\n",
              "    <tr style=\"text-align: right;\">\n",
              "      <th></th>\n",
              "      <th>SO2</th>\n",
              "      <th>CO</th>\n",
              "      <th>O3</th>\n",
              "      <th>NO2</th>\n",
              "      <th>PM10</th>\n",
              "      <th>PM25</th>\n",
              "    </tr>\n",
              "  </thead>\n",
              "  <tbody>\n",
              "    <tr>\n",
              "      <th>0</th>\n",
              "      <td>0.003</td>\n",
              "      <td>0.6</td>\n",
              "      <td>0.017</td>\n",
              "      <td>0.024</td>\n",
              "      <td>50.0</td>\n",
              "      <td>26.0</td>\n",
              "    </tr>\n",
              "    <tr>\n",
              "      <th>1</th>\n",
              "      <td>0.003</td>\n",
              "      <td>0.5</td>\n",
              "      <td>0.024</td>\n",
              "      <td>0.015</td>\n",
              "      <td>42.0</td>\n",
              "      <td>24.0</td>\n",
              "    </tr>\n",
              "    <tr>\n",
              "      <th>2</th>\n",
              "      <td>0.003</td>\n",
              "      <td>0.4</td>\n",
              "      <td>0.026</td>\n",
              "      <td>0.013</td>\n",
              "      <td>36.0</td>\n",
              "      <td>19.0</td>\n",
              "    </tr>\n",
              "    <tr>\n",
              "      <th>3</th>\n",
              "      <td>0.003</td>\n",
              "      <td>0.5</td>\n",
              "      <td>0.023</td>\n",
              "      <td>0.015</td>\n",
              "      <td>34.0</td>\n",
              "      <td>17.0</td>\n",
              "    </tr>\n",
              "    <tr>\n",
              "      <th>4</th>\n",
              "      <td>0.003</td>\n",
              "      <td>0.5</td>\n",
              "      <td>0.017</td>\n",
              "      <td>0.022</td>\n",
              "      <td>36.0</td>\n",
              "      <td>18.0</td>\n",
              "    </tr>\n",
              "    <tr>\n",
              "      <th>...</th>\n",
              "      <td>...</td>\n",
              "      <td>...</td>\n",
              "      <td>...</td>\n",
              "      <td>...</td>\n",
              "      <td>...</td>\n",
              "      <td>...</td>\n",
              "    </tr>\n",
              "    <tr>\n",
              "      <th>316951</th>\n",
              "      <td>0.005</td>\n",
              "      <td>0.4</td>\n",
              "      <td>0.036</td>\n",
              "      <td>0.004</td>\n",
              "      <td>20.0</td>\n",
              "      <td>9.0</td>\n",
              "    </tr>\n",
              "    <tr>\n",
              "      <th>316952</th>\n",
              "      <td>0.004</td>\n",
              "      <td>0.3</td>\n",
              "      <td>0.037</td>\n",
              "      <td>0.003</td>\n",
              "      <td>20.0</td>\n",
              "      <td>10.0</td>\n",
              "    </tr>\n",
              "    <tr>\n",
              "      <th>316953</th>\n",
              "      <td>0.004</td>\n",
              "      <td>0.3</td>\n",
              "      <td>0.037</td>\n",
              "      <td>0.003</td>\n",
              "      <td>16.0</td>\n",
              "      <td>8.0</td>\n",
              "    </tr>\n",
              "    <tr>\n",
              "      <th>316954</th>\n",
              "      <td>0.004</td>\n",
              "      <td>0.3</td>\n",
              "      <td>0.037</td>\n",
              "      <td>0.003</td>\n",
              "      <td>14.0</td>\n",
              "      <td>12.0</td>\n",
              "    </tr>\n",
              "    <tr>\n",
              "      <th>316955</th>\n",
              "      <td>0.005</td>\n",
              "      <td>0.3</td>\n",
              "      <td>0.036</td>\n",
              "      <td>0.004</td>\n",
              "      <td>15.0</td>\n",
              "      <td>8.0</td>\n",
              "    </tr>\n",
              "  </tbody>\n",
              "</table>\n",
              "<p>316956 rows × 6 columns</p>\n",
              "</div>"
            ],
            "text/plain": [
              "          SO2   CO     O3    NO2  PM10  PM25\n",
              "0       0.003  0.6  0.017  0.024  50.0  26.0\n",
              "1       0.003  0.5  0.024  0.015  42.0  24.0\n",
              "2       0.003  0.4  0.026  0.013  36.0  19.0\n",
              "3       0.003  0.5  0.023  0.015  34.0  17.0\n",
              "4       0.003  0.5  0.017  0.022  36.0  18.0\n",
              "...       ...  ...    ...    ...   ...   ...\n",
              "316951  0.005  0.4  0.036  0.004  20.0   9.0\n",
              "316952  0.004  0.3  0.037  0.003  20.0  10.0\n",
              "316953  0.004  0.3  0.037  0.003  16.0   8.0\n",
              "316954  0.004  0.3  0.037  0.003  14.0  12.0\n",
              "316955  0.005  0.3  0.036  0.004  15.0   8.0\n",
              "\n",
              "[316956 rows x 6 columns]"
            ]
          },
          "metadata": {},
          "execution_count": 18
        }
      ]
    },
    {
      "cell_type": "code",
      "metadata": {
        "colab": {
          "base_uri": "https://localhost:8080/",
          "height": 235
        },
        "id": "jSyf8uTSbwgg",
        "outputId": "b15f9eb5-7ce0-49a0-c316-ffdcb0c21bf6"
      },
      "source": [
        "#이상치 제거한 data\n",
        "data_iqr.corr()"
      ],
      "execution_count": null,
      "outputs": [
        {
          "output_type": "execute_result",
          "data": {
            "text/html": [
              "<div>\n",
              "<style scoped>\n",
              "    .dataframe tbody tr th:only-of-type {\n",
              "        vertical-align: middle;\n",
              "    }\n",
              "\n",
              "    .dataframe tbody tr th {\n",
              "        vertical-align: top;\n",
              "    }\n",
              "\n",
              "    .dataframe thead th {\n",
              "        text-align: right;\n",
              "    }\n",
              "</style>\n",
              "<table border=\"1\" class=\"dataframe\">\n",
              "  <thead>\n",
              "    <tr style=\"text-align: right;\">\n",
              "      <th></th>\n",
              "      <th>SO2</th>\n",
              "      <th>CO</th>\n",
              "      <th>O3</th>\n",
              "      <th>NO2</th>\n",
              "      <th>PM10</th>\n",
              "      <th>PM25</th>\n",
              "    </tr>\n",
              "  </thead>\n",
              "  <tbody>\n",
              "    <tr>\n",
              "      <th>SO2</th>\n",
              "      <td>1.000000</td>\n",
              "      <td>0.237781</td>\n",
              "      <td>-0.095025</td>\n",
              "      <td>0.284077</td>\n",
              "      <td>0.243959</td>\n",
              "      <td>0.197060</td>\n",
              "    </tr>\n",
              "    <tr>\n",
              "      <th>CO</th>\n",
              "      <td>0.237781</td>\n",
              "      <td>1.000000</td>\n",
              "      <td>-0.506190</td>\n",
              "      <td>0.576941</td>\n",
              "      <td>0.505317</td>\n",
              "      <td>0.515985</td>\n",
              "    </tr>\n",
              "    <tr>\n",
              "      <th>O3</th>\n",
              "      <td>-0.095025</td>\n",
              "      <td>-0.506190</td>\n",
              "      <td>1.000000</td>\n",
              "      <td>-0.722458</td>\n",
              "      <td>-0.233450</td>\n",
              "      <td>-0.271623</td>\n",
              "    </tr>\n",
              "    <tr>\n",
              "      <th>NO2</th>\n",
              "      <td>0.284077</td>\n",
              "      <td>0.576941</td>\n",
              "      <td>-0.722458</td>\n",
              "      <td>1.000000</td>\n",
              "      <td>0.407512</td>\n",
              "      <td>0.380184</td>\n",
              "    </tr>\n",
              "    <tr>\n",
              "      <th>PM10</th>\n",
              "      <td>0.243959</td>\n",
              "      <td>0.505317</td>\n",
              "      <td>-0.233450</td>\n",
              "      <td>0.407512</td>\n",
              "      <td>1.000000</td>\n",
              "      <td>0.878702</td>\n",
              "    </tr>\n",
              "    <tr>\n",
              "      <th>PM25</th>\n",
              "      <td>0.197060</td>\n",
              "      <td>0.515985</td>\n",
              "      <td>-0.271623</td>\n",
              "      <td>0.380184</td>\n",
              "      <td>0.878702</td>\n",
              "      <td>1.000000</td>\n",
              "    </tr>\n",
              "  </tbody>\n",
              "</table>\n",
              "</div>"
            ],
            "text/plain": [
              "           SO2        CO        O3       NO2      PM10      PM25\n",
              "SO2   1.000000  0.237781 -0.095025  0.284077  0.243959  0.197060\n",
              "CO    0.237781  1.000000 -0.506190  0.576941  0.505317  0.515985\n",
              "O3   -0.095025 -0.506190  1.000000 -0.722458 -0.233450 -0.271623\n",
              "NO2   0.284077  0.576941 -0.722458  1.000000  0.407512  0.380184\n",
              "PM10  0.243959  0.505317 -0.233450  0.407512  1.000000  0.878702\n",
              "PM25  0.197060  0.515985 -0.271623  0.380184  0.878702  1.000000"
            ]
          },
          "metadata": {},
          "execution_count": 19
        }
      ]
    },
    {
      "cell_type": "code",
      "metadata": {
        "colab": {
          "base_uri": "https://localhost:8080/",
          "height": 235
        },
        "id": "-cFWAMq9hXMl",
        "outputId": "31d3b348-3056-4399-9af9-42191d84cb43"
      },
      "source": [
        "data.corr()"
      ],
      "execution_count": null,
      "outputs": [
        {
          "output_type": "execute_result",
          "data": {
            "text/html": [
              "<div>\n",
              "<style scoped>\n",
              "    .dataframe tbody tr th:only-of-type {\n",
              "        vertical-align: middle;\n",
              "    }\n",
              "\n",
              "    .dataframe tbody tr th {\n",
              "        vertical-align: top;\n",
              "    }\n",
              "\n",
              "    .dataframe thead th {\n",
              "        text-align: right;\n",
              "    }\n",
              "</style>\n",
              "<table border=\"1\" class=\"dataframe\">\n",
              "  <thead>\n",
              "    <tr style=\"text-align: right;\">\n",
              "      <th></th>\n",
              "      <th>SO2</th>\n",
              "      <th>CO</th>\n",
              "      <th>O3</th>\n",
              "      <th>NO2</th>\n",
              "      <th>PM10</th>\n",
              "      <th>PM25</th>\n",
              "    </tr>\n",
              "  </thead>\n",
              "  <tbody>\n",
              "    <tr>\n",
              "      <th>SO2</th>\n",
              "      <td>1.000000</td>\n",
              "      <td>0.245138</td>\n",
              "      <td>-0.090385</td>\n",
              "      <td>0.213536</td>\n",
              "      <td>0.187233</td>\n",
              "      <td>0.154870</td>\n",
              "    </tr>\n",
              "    <tr>\n",
              "      <th>CO</th>\n",
              "      <td>0.245138</td>\n",
              "      <td>1.000000</td>\n",
              "      <td>-0.518118</td>\n",
              "      <td>0.625209</td>\n",
              "      <td>0.562888</td>\n",
              "      <td>0.558334</td>\n",
              "    </tr>\n",
              "    <tr>\n",
              "      <th>O3</th>\n",
              "      <td>-0.090385</td>\n",
              "      <td>-0.518118</td>\n",
              "      <td>1.000000</td>\n",
              "      <td>-0.726425</td>\n",
              "      <td>-0.300412</td>\n",
              "      <td>-0.330025</td>\n",
              "    </tr>\n",
              "    <tr>\n",
              "      <th>NO2</th>\n",
              "      <td>0.213536</td>\n",
              "      <td>0.625209</td>\n",
              "      <td>-0.726425</td>\n",
              "      <td>1.000000</td>\n",
              "      <td>0.476463</td>\n",
              "      <td>0.453773</td>\n",
              "    </tr>\n",
              "    <tr>\n",
              "      <th>PM10</th>\n",
              "      <td>0.187233</td>\n",
              "      <td>0.562888</td>\n",
              "      <td>-0.300412</td>\n",
              "      <td>0.476463</td>\n",
              "      <td>1.000000</td>\n",
              "      <td>0.912409</td>\n",
              "    </tr>\n",
              "    <tr>\n",
              "      <th>PM25</th>\n",
              "      <td>0.154870</td>\n",
              "      <td>0.558334</td>\n",
              "      <td>-0.330025</td>\n",
              "      <td>0.453773</td>\n",
              "      <td>0.912409</td>\n",
              "      <td>1.000000</td>\n",
              "    </tr>\n",
              "  </tbody>\n",
              "</table>\n",
              "</div>"
            ],
            "text/plain": [
              "           SO2        CO        O3       NO2      PM10      PM25\n",
              "SO2   1.000000  0.245138 -0.090385  0.213536  0.187233  0.154870\n",
              "CO    0.245138  1.000000 -0.518118  0.625209  0.562888  0.558334\n",
              "O3   -0.090385 -0.518118  1.000000 -0.726425 -0.300412 -0.330025\n",
              "NO2   0.213536  0.625209 -0.726425  1.000000  0.476463  0.453773\n",
              "PM10  0.187233  0.562888 -0.300412  0.476463  1.000000  0.912409\n",
              "PM25  0.154870  0.558334 -0.330025  0.453773  0.912409  1.000000"
            ]
          },
          "metadata": {},
          "execution_count": 20
        }
      ]
    },
    {
      "cell_type": "code",
      "metadata": {
        "id": "zIKuEDTpcC58"
      },
      "source": [
        "ㅇ"
      ],
      "execution_count": null,
      "outputs": []
    },
    {
      "cell_type": "markdown",
      "metadata": {
        "id": "Llq9jAgTc6oa"
      },
      "source": [
        "# data 분할"
      ]
    },
    {
      "cell_type": "code",
      "metadata": {
        "id": "u8nnyMp0c9LD"
      },
      "source": [
        "#train data, y data 분할\n",
        "\n",
        "\n",
        "#train = data_iqr.drop(['PM25','O3','SO2'],axis=1)\n",
        "#y = data_iqr.PM25\n",
        "train = data_iqr.drop(['PM25','SO2'],axis=1)\n",
        "y = data_iqr.PM25"
      ],
      "execution_count": null,
      "outputs": []
    },
    {
      "cell_type": "markdown",
      "metadata": {
        "id": "xh0YxqGVczIB"
      },
      "source": [
        ""
      ]
    },
    {
      "cell_type": "markdown",
      "metadata": {
        "id": "8Crr0R-bcvU9"
      },
      "source": [
        "# data 정규화"
      ]
    },
    {
      "cell_type": "code",
      "metadata": {
        "id": "48vOJPicc0SJ"
      },
      "source": [
        ""
      ],
      "execution_count": null,
      "outputs": []
    },
    {
      "cell_type": "code",
      "metadata": {
        "id": "mJsyFK0Bc1Tc"
      },
      "source": [
        "# data정규화\n",
        "\n",
        "def nomalization(df):\n",
        "  df_norm = (df - df.mean())/df.std()\n",
        "  return df_norm\n"
      ],
      "execution_count": null,
      "outputs": []
    },
    {
      "cell_type": "code",
      "metadata": {
        "id": "BNhATBRSc2KP"
      },
      "source": [
        "# data 정규화\n",
        "train_normal = nomalization(train)"
      ],
      "execution_count": null,
      "outputs": []
    },
    {
      "cell_type": "code",
      "metadata": {
        "id": "bTB5YPROdDgC"
      },
      "source": [
        "# 플롯 그리기 (굳이 안해도 됨)\n",
        "x = pd.concat([train_normal,y],axis=1)\n",
        "sns.pairplot(x,diag_kind='hist')\n",
        "plt.show()\n"
      ],
      "execution_count": null,
      "outputs": []
    },
    {
      "cell_type": "markdown",
      "metadata": {
        "id": "cqkJ4uKidlHE"
      },
      "source": [
        "# Model 생성"
      ]
    },
    {
      "cell_type": "code",
      "metadata": {
        "id": "XMPf6lRqdZai"
      },
      "source": [
        "from tensorflow.keras.metrics import RootMeanSquaredError\n",
        "from tensorflow.keras.callbacks import ModelCheckpoint"
      ],
      "execution_count": null,
      "outputs": []
    },
    {
      "cell_type": "code",
      "metadata": {
        "id": "8htuBH8Udeyz"
      },
      "source": [
        "'''\n",
        "model = Sequential([Dense(units=5, activation='relu',input_shape=(5,)),\n",
        "                    Dense(units=10,activation='relu' ),\n",
        "                    Dense(units=7,activation='relu' ),\n",
        "                    Dense(units=1,)])\n",
        "  \n",
        "model.compile(\n",
        "      optimizer='adam',\n",
        "      loss='mse',\n",
        "      metrics=[tf.keras.metrics.RootMeanSquaredError()])\n",
        "\n",
        "'''\n",
        "model = Sequential([\n",
        "                    \n",
        "                    Dense(units=4,activation = 'tanh',input_shape=(4,)),\n",
        "                    \n",
        "                    Dense(units=16,activation='tanh' ),\n",
        "                    #Dense(units=32,activation='tanh' ),\n",
        "                    #Dense(units=64,activation='tanh' ),\n",
        "                    Dense(units=32,activation='tanh' ),\n",
        "                    Dense(units=16,activation='tanh' ),\n",
        "                    \n",
        "                    Dense(units=1,)])\n",
        "\n",
        "model.compile(\n",
        "    optimizer='adam',\n",
        "    loss='mse',\n",
        "    metrics=['mae',tf.keras.metrics.RootMeanSquaredError()])"
      ],
      "execution_count": null,
      "outputs": []
    },
    {
      "cell_type": "code",
      "metadata": {
        "colab": {
          "base_uri": "https://localhost:8080/"
        },
        "id": "ewWs4b4Tdwhw",
        "outputId": "6313dc08-8ab8-4c90-f897-4bfc5915cefd"
      },
      "source": [
        "# model 요약\n",
        "model.summary()"
      ],
      "execution_count": null,
      "outputs": [
        {
          "output_type": "stream",
          "name": "stdout",
          "text": [
            "Model: \"sequential\"\n",
            "_________________________________________________________________\n",
            "Layer (type)                 Output Shape              Param #   \n",
            "=================================================================\n",
            "dense (Dense)                (None, 4)                 20        \n",
            "_________________________________________________________________\n",
            "dense_1 (Dense)              (None, 16)                80        \n",
            "_________________________________________________________________\n",
            "dense_2 (Dense)              (None, 32)                544       \n",
            "_________________________________________________________________\n",
            "dense_3 (Dense)              (None, 16)                528       \n",
            "_________________________________________________________________\n",
            "dense_4 (Dense)              (None, 1)                 17        \n",
            "=================================================================\n",
            "Total params: 1,189\n",
            "Trainable params: 1,189\n",
            "Non-trainable params: 0\n",
            "_________________________________________________________________\n"
          ]
        }
      ]
    },
    {
      "cell_type": "code",
      "metadata": {
        "colab": {
          "base_uri": "https://localhost:8080/",
          "height": 539
        },
        "id": "UQN970IUdyjo",
        "outputId": "74d54895-814d-46db-81af-5f6039085de5"
      },
      "source": [
        "# model 개요\n",
        "plot_model(model,show_shapes=True, dpi=80)"
      ],
      "execution_count": null,
      "outputs": [
        {
          "output_type": "execute_result",
          "data": {
            "image/png": "[encoded data removed]",
            "text/plain": [
              "<IPython.core.display.Image object>"
            ]
          },
          "metadata": {},
          "execution_count": 27
        }
      ]
    },
    {
      "cell_type": "code",
      "metadata": {
        "colab": {
          "base_uri": "https://localhost:8080/"
        },
        "id": "V32oWIVGd0p2",
        "outputId": "9d52c037-d686-4613-991b-bc3bb0c2001e"
      },
      "source": [
        "history = model.fit(train,y,validation_split=0.2,epochs=70,batch_size=2048,verbose=1)  # 학습"
      ],
      "execution_count": null,
      "outputs": [
        {
          "output_type": "stream",
          "name": "stdout",
          "text": [
            "Epoch 1/70\n",
            "124/124 [==============================] - 2s 9ms/step - loss: 424.8474 - mae: 15.9723 - root_mean_squared_error: 20.6118 - val_loss: 403.8845 - val_mae: 15.1943 - val_root_mean_squared_error: 20.0969\n",
            "Epoch 2/70\n",
            "124/124 [==============================] - 1s 7ms/step - loss: 321.6092 - mae: 13.0382 - root_mean_squared_error: 17.9335 - val_loss: 343.0524 - val_mae: 13.5660 - val_root_mean_squared_error: 18.5217\n",
            "Epoch 3/70\n",
            "124/124 [==============================] - 1s 7ms/step - loss: 275.8654 - mae: 11.7534 - root_mean_squared_error: 16.6092 - val_loss: 298.2581 - val_mae: 12.3540 - val_root_mean_squared_error: 17.2701\n",
            "Epoch 4/70\n",
            "124/124 [==============================] - 1s 4ms/step - loss: 240.2914 - mae: 10.7313 - root_mean_squared_error: 15.5013 - val_loss: 262.1571 - val_mae: 11.3798 - val_root_mean_squared_error: 16.1913\n",
            "Epoch 5/70\n",
            "124/124 [==============================] - 1s 4ms/step - loss: 211.5415 - mae: 9.9145 - root_mean_squared_error: 14.5445 - val_loss: 231.9421 - val_mae: 10.5444 - val_root_mean_squared_error: 15.2296\n",
            "Epoch 6/70\n",
            "124/124 [==============================] - 1s 4ms/step - loss: 187.4603 - mae: 9.2129 - root_mean_squared_error: 13.6916 - val_loss: 206.2625 - val_mae: 9.8080 - val_root_mean_squared_error: 14.3618\n",
            "Epoch 7/70\n",
            "124/124 [==============================] - 0s 4ms/step - loss: 167.1018 - mae: 8.6108 - root_mean_squared_error: 12.9268 - val_loss: 184.4447 - val_mae: 9.1824 - val_root_mean_squared_error: 13.5810\n",
            "Epoch 8/70\n",
            "124/124 [==============================] - 0s 4ms/step - loss: 149.9773 - mae: 8.1111 - root_mean_squared_error: 12.2465 - val_loss: 165.9925 - val_mae: 8.6656 - val_root_mean_squared_error: 12.8838\n",
            "Epoch 9/70\n",
            "124/124 [==============================] - 0s 4ms/step - loss: 135.5136 - mae: 7.6939 - root_mean_squared_error: 11.6410 - val_loss: 149.8346 - val_mae: 8.2089 - val_root_mean_squared_error: 12.2407\n",
            "Epoch 10/70\n",
            "124/124 [==============================] - 1s 4ms/step - loss: 123.2471 - mae: 7.3436 - root_mean_squared_error: 11.1017 - val_loss: 136.3777 - val_mae: 7.8311 - val_root_mean_squared_error: 11.6781\n",
            "Epoch 11/70\n",
            "124/124 [==============================] - 0s 4ms/step - loss: 112.7173 - mae: 7.0413 - root_mean_squared_error: 10.6168 - val_loss: 124.9741 - val_mae: 7.5169 - val_root_mean_squared_error: 11.1792\n",
            "Epoch 12/70\n",
            "124/124 [==============================] - 0s 4ms/step - loss: 103.6149 - mae: 6.7786 - root_mean_squared_error: 10.1791 - val_loss: 114.1882 - val_mae: 7.1948 - val_root_mean_squared_error: 10.6859\n",
            "Epoch 13/70\n",
            "124/124 [==============================] - 1s 4ms/step - loss: 95.7234 - mae: 6.5496 - root_mean_squared_error: 9.7838 - val_loss: 105.4632 - val_mae: 6.9405 - val_root_mean_squared_error: 10.2695\n",
            "Epoch 14/70\n",
            "124/124 [==============================] - 1s 4ms/step - loss: 88.8913 - mae: 6.3505 - root_mean_squared_error: 9.4282 - val_loss: 97.4639 - val_mae: 6.7011 - val_root_mean_squared_error: 9.8724\n",
            "Epoch 15/70\n",
            "124/124 [==============================] - 0s 4ms/step - loss: 82.8844 - mae: 6.1727 - root_mean_squared_error: 9.1041 - val_loss: 91.0738 - val_mae: 6.5214 - val_root_mean_squared_error: 9.5433\n",
            "Epoch 16/70\n",
            "124/124 [==============================] - 1s 4ms/step - loss: 77.6183 - mae: 6.0173 - root_mean_squared_error: 8.8101 - val_loss: 84.4416 - val_mae: 6.3031 - val_root_mean_squared_error: 9.1892\n",
            "Epoch 17/70\n",
            "124/124 [==============================] - 0s 4ms/step - loss: 73.0250 - mae: 5.8814 - root_mean_squared_error: 8.5455 - val_loss: 79.2497 - val_mae: 6.1503 - val_root_mean_squared_error: 8.9022\n",
            "Epoch 18/70\n",
            "124/124 [==============================] - 0s 4ms/step - loss: 68.9073 - mae: 5.7562 - root_mean_squared_error: 8.3010 - val_loss: 74.9231 - val_mae: 6.0268 - val_root_mean_squared_error: 8.6558\n",
            "Epoch 19/70\n",
            "124/124 [==============================] - 0s 4ms/step - loss: 65.2684 - mae: 5.6430 - root_mean_squared_error: 8.0789 - val_loss: 70.5824 - val_mae: 5.8834 - val_root_mean_squared_error: 8.4013\n",
            "Epoch 20/70\n",
            "124/124 [==============================] - 0s 4ms/step - loss: 62.0304 - mae: 5.5412 - root_mean_squared_error: 7.8759 - val_loss: 66.6401 - val_mae: 5.7498 - val_root_mean_squared_error: 8.1633\n",
            "Epoch 21/70\n",
            "124/124 [==============================] - 0s 4ms/step - loss: 59.1735 - mae: 5.4499 - root_mean_squared_error: 7.6924 - val_loss: 63.0469 - val_mae: 5.6234 - val_root_mean_squared_error: 7.9402\n",
            "Epoch 22/70\n",
            "124/124 [==============================] - 0s 4ms/step - loss: 56.6194 - mae: 5.3660 - root_mean_squared_error: 7.5246 - val_loss: 60.6800 - val_mae: 5.5616 - val_root_mean_squared_error: 7.7897\n",
            "Epoch 23/70\n",
            "124/124 [==============================] - 0s 4ms/step - loss: 54.3483 - mae: 5.2899 - root_mean_squared_error: 7.3721 - val_loss: 58.0232 - val_mae: 5.4707 - val_root_mean_squared_error: 7.6173\n",
            "Epoch 24/70\n",
            "124/124 [==============================] - 0s 4ms/step - loss: 52.3343 - mae: 5.2215 - root_mean_squared_error: 7.2342 - val_loss: 54.9431 - val_mae: 5.3496 - val_root_mean_squared_error: 7.4124\n",
            "Epoch 25/70\n",
            "124/124 [==============================] - 0s 4ms/step - loss: 50.5492 - mae: 5.1598 - root_mean_squared_error: 7.1098 - val_loss: 53.1964 - val_mae: 5.2962 - val_root_mean_squared_error: 7.2936\n",
            "Epoch 26/70\n",
            "124/124 [==============================] - 0s 4ms/step - loss: 49.0678 - mae: 5.1089 - root_mean_squared_error: 7.0048 - val_loss: 52.3967 - val_mae: 5.2901 - val_root_mean_squared_error: 7.2386\n",
            "Epoch 27/70\n",
            "124/124 [==============================] - 0s 4ms/step - loss: 47.6199 - mae: 5.0567 - root_mean_squared_error: 6.9007 - val_loss: 49.9489 - val_mae: 5.1816 - val_root_mean_squared_error: 7.0675\n",
            "Epoch 28/70\n",
            "124/124 [==============================] - 0s 4ms/step - loss: 46.3635 - mae: 5.0107 - root_mean_squared_error: 6.8091 - val_loss: 48.4266 - val_mae: 5.1233 - val_root_mean_squared_error: 6.9589\n",
            "Epoch 29/70\n",
            "124/124 [==============================] - 1s 4ms/step - loss: 45.1956 - mae: 4.9658 - root_mean_squared_error: 6.7228 - val_loss: 47.3057 - val_mae: 5.0862 - val_root_mean_squared_error: 6.8779\n",
            "Epoch 30/70\n",
            "124/124 [==============================] - 0s 4ms/step - loss: 44.2568 - mae: 4.9308 - root_mean_squared_error: 6.6526 - val_loss: 46.4789 - val_mae: 5.0653 - val_root_mean_squared_error: 6.8175\n",
            "Epoch 31/70\n",
            "124/124 [==============================] - 0s 4ms/step - loss: 43.3494 - mae: 4.8955 - root_mean_squared_error: 6.5840 - val_loss: 44.6684 - val_mae: 4.9772 - val_root_mean_squared_error: 6.6834\n",
            "Epoch 32/70\n",
            "124/124 [==============================] - 0s 4ms/step - loss: 42.5525 - mae: 4.8638 - root_mean_squared_error: 6.5232 - val_loss: 43.4502 - val_mae: 4.9149 - val_root_mean_squared_error: 6.5917\n",
            "Epoch 33/70\n",
            "124/124 [==============================] - 0s 4ms/step - loss: 41.8768 - mae: 4.8367 - root_mean_squared_error: 6.4712 - val_loss: 42.7026 - val_mae: 4.8954 - val_root_mean_squared_error: 6.5347\n",
            "Epoch 34/70\n",
            "124/124 [==============================] - 0s 4ms/step - loss: 41.3186 - mae: 4.8142 - root_mean_squared_error: 6.4280 - val_loss: 42.5354 - val_mae: 4.8986 - val_root_mean_squared_error: 6.5219\n",
            "Epoch 35/70\n",
            "124/124 [==============================] - 1s 4ms/step - loss: 40.7696 - mae: 4.7917 - root_mean_squared_error: 6.3851 - val_loss: 42.4104 - val_mae: 4.9079 - val_root_mean_squared_error: 6.5123\n",
            "Epoch 36/70\n",
            "124/124 [==============================] - 0s 4ms/step - loss: 40.2632 - mae: 4.7702 - root_mean_squared_error: 6.3453 - val_loss: 41.2762 - val_mae: 4.8423 - val_root_mean_squared_error: 6.4247\n",
            "Epoch 37/70\n",
            "124/124 [==============================] - 0s 4ms/step - loss: 39.8304 - mae: 4.7510 - root_mean_squared_error: 6.3111 - val_loss: 40.9753 - val_mae: 4.8341 - val_root_mean_squared_error: 6.4012\n",
            "Epoch 38/70\n",
            "124/124 [==============================] - 0s 4ms/step - loss: 39.5315 - mae: 4.7390 - root_mean_squared_error: 6.2874 - val_loss: 42.0489 - val_mae: 4.9087 - val_root_mean_squared_error: 6.4845\n",
            "Epoch 39/70\n",
            "124/124 [==============================] - 0s 4ms/step - loss: 39.1383 - mae: 4.7207 - root_mean_squared_error: 6.2561 - val_loss: 40.4793 - val_mae: 4.8164 - val_root_mean_squared_error: 6.3623\n",
            "Epoch 40/70\n",
            "124/124 [==============================] - 0s 4ms/step - loss: 38.8973 - mae: 4.7091 - root_mean_squared_error: 6.2368 - val_loss: 40.3270 - val_mae: 4.8146 - val_root_mean_squared_error: 6.3504\n",
            "Epoch 41/70\n",
            "124/124 [==============================] - 1s 4ms/step - loss: 38.6555 - mae: 4.6987 - root_mean_squared_error: 6.2174 - val_loss: 39.1879 - val_mae: 4.7415 - val_root_mean_squared_error: 6.2600\n",
            "Epoch 42/70\n",
            "124/124 [==============================] - 0s 4ms/step - loss: 38.3835 - mae: 4.6848 - root_mean_squared_error: 6.1954 - val_loss: 38.9257 - val_mae: 4.7359 - val_root_mean_squared_error: 6.2390\n",
            "Epoch 43/70\n",
            "124/124 [==============================] - 0s 4ms/step - loss: 38.2324 - mae: 4.6780 - root_mean_squared_error: 6.1832 - val_loss: 39.6553 - val_mae: 4.7830 - val_root_mean_squared_error: 6.2972\n",
            "Epoch 44/70\n",
            "124/124 [==============================] - 0s 4ms/step - loss: 38.0579 - mae: 4.6681 - root_mean_squared_error: 6.1691 - val_loss: 38.6976 - val_mae: 4.7266 - val_root_mean_squared_error: 6.2207\n",
            "Epoch 45/70\n",
            "124/124 [==============================] - 1s 4ms/step - loss: 37.8746 - mae: 4.6598 - root_mean_squared_error: 6.1542 - val_loss: 38.1132 - val_mae: 4.6842 - val_root_mean_squared_error: 6.1736\n",
            "Epoch 46/70\n",
            "124/124 [==============================] - 0s 4ms/step - loss: 37.7219 - mae: 4.6503 - root_mean_squared_error: 6.1418 - val_loss: 38.1582 - val_mae: 4.6933 - val_root_mean_squared_error: 6.1772\n",
            "Epoch 47/70\n",
            "124/124 [==============================] - 1s 4ms/step - loss: 37.6078 - mae: 4.6443 - root_mean_squared_error: 6.1325 - val_loss: 38.5066 - val_mae: 4.7207 - val_root_mean_squared_error: 6.2054\n",
            "Epoch 48/70\n",
            "124/124 [==============================] - 0s 4ms/step - loss: 37.5684 - mae: 4.6428 - root_mean_squared_error: 6.1293 - val_loss: 39.7815 - val_mae: 4.7979 - val_root_mean_squared_error: 6.3073\n",
            "Epoch 49/70\n",
            "124/124 [==============================] - 0s 4ms/step - loss: 37.4740 - mae: 4.6375 - root_mean_squared_error: 6.1216 - val_loss: 38.0798 - val_mae: 4.6911 - val_root_mean_squared_error: 6.1709\n",
            "Epoch 50/70\n",
            "124/124 [==============================] - 0s 4ms/step - loss: 37.4551 - mae: 4.6358 - root_mean_squared_error: 6.1201 - val_loss: 38.6878 - val_mae: 4.7311 - val_root_mean_squared_error: 6.2199\n",
            "Epoch 51/70\n",
            "124/124 [==============================] - 0s 4ms/step - loss: 37.2925 - mae: 4.6273 - root_mean_squared_error: 6.1068 - val_loss: 37.7235 - val_mae: 4.6753 - val_root_mean_squared_error: 6.1419\n",
            "Epoch 52/70\n",
            "124/124 [==============================] - 0s 4ms/step - loss: 37.2252 - mae: 4.6225 - root_mean_squared_error: 6.1012 - val_loss: 37.2888 - val_mae: 4.6403 - val_root_mean_squared_error: 6.1065\n",
            "Epoch 53/70\n",
            "124/124 [==============================] - 0s 4ms/step - loss: 37.2097 - mae: 4.6212 - root_mean_squared_error: 6.1000 - val_loss: 37.7025 - val_mae: 4.6702 - val_root_mean_squared_error: 6.1402\n",
            "Epoch 54/70\n",
            "124/124 [==============================] - 1s 4ms/step - loss: 37.1169 - mae: 4.6151 - root_mean_squared_error: 6.0924 - val_loss: 37.3486 - val_mae: 4.6411 - val_root_mean_squared_error: 6.1114\n",
            "Epoch 55/70\n",
            "124/124 [==============================] - 1s 4ms/step - loss: 37.1164 - mae: 4.6150 - root_mean_squared_error: 6.0923 - val_loss: 37.3932 - val_mae: 4.6571 - val_root_mean_squared_error: 6.1150\n",
            "Epoch 56/70\n",
            "124/124 [==============================] - 1s 4ms/step - loss: 37.1564 - mae: 4.6174 - root_mean_squared_error: 6.0956 - val_loss: 37.3133 - val_mae: 4.6627 - val_root_mean_squared_error: 6.1085\n",
            "Epoch 57/70\n",
            "124/124 [==============================] - 1s 4ms/step - loss: 37.0799 - mae: 4.6124 - root_mean_squared_error: 6.0893 - val_loss: 37.3601 - val_mae: 4.6470 - val_root_mean_squared_error: 6.1123\n",
            "Epoch 58/70\n",
            "124/124 [==============================] - 1s 4ms/step - loss: 36.9996 - mae: 4.6068 - root_mean_squared_error: 6.0827 - val_loss: 37.4080 - val_mae: 4.6470 - val_root_mean_squared_error: 6.1162\n",
            "Epoch 59/70\n",
            "124/124 [==============================] - 1s 4ms/step - loss: 36.9895 - mae: 4.6059 - root_mean_squared_error: 6.0819 - val_loss: 37.6275 - val_mae: 4.6659 - val_root_mean_squared_error: 6.1341\n",
            "Epoch 60/70\n",
            "124/124 [==============================] - 1s 4ms/step - loss: 36.9959 - mae: 4.6071 - root_mean_squared_error: 6.0824 - val_loss: 37.5424 - val_mae: 4.6617 - val_root_mean_squared_error: 6.1272\n",
            "Epoch 61/70\n",
            "124/124 [==============================] - 1s 4ms/step - loss: 36.9983 - mae: 4.6071 - root_mean_squared_error: 6.0826 - val_loss: 37.7814 - val_mae: 4.6735 - val_root_mean_squared_error: 6.1467\n",
            "Epoch 62/70\n",
            "124/124 [==============================] - 0s 4ms/step - loss: 36.9654 - mae: 4.6043 - root_mean_squared_error: 6.0799 - val_loss: 36.9863 - val_mae: 4.6251 - val_root_mean_squared_error: 6.0816\n",
            "Epoch 63/70\n",
            "124/124 [==============================] - 1s 4ms/step - loss: 36.8850 - mae: 4.5993 - root_mean_squared_error: 6.0733 - val_loss: 36.9849 - val_mae: 4.6211 - val_root_mean_squared_error: 6.0815\n",
            "Epoch 64/70\n",
            "124/124 [==============================] - 0s 4ms/step - loss: 36.8703 - mae: 4.5980 - root_mean_squared_error: 6.0721 - val_loss: 36.9947 - val_mae: 4.6235 - val_root_mean_squared_error: 6.0823\n",
            "Epoch 65/70\n",
            "124/124 [==============================] - 1s 4ms/step - loss: 36.8629 - mae: 4.5986 - root_mean_squared_error: 6.0715 - val_loss: 37.5022 - val_mae: 4.6597 - val_root_mean_squared_error: 6.1239\n",
            "Epoch 66/70\n",
            "124/124 [==============================] - 1s 4ms/step - loss: 36.8709 - mae: 4.5979 - root_mean_squared_error: 6.0721 - val_loss: 36.8291 - val_mae: 4.6165 - val_root_mean_squared_error: 6.0687\n",
            "Epoch 67/70\n",
            "124/124 [==============================] - 1s 4ms/step - loss: 36.8379 - mae: 4.5954 - root_mean_squared_error: 6.0694 - val_loss: 37.8647 - val_mae: 4.6794 - val_root_mean_squared_error: 6.1534\n",
            "Epoch 68/70\n",
            "124/124 [==============================] - 0s 4ms/step - loss: 36.8564 - mae: 4.5970 - root_mean_squared_error: 6.0710 - val_loss: 36.7230 - val_mae: 4.6081 - val_root_mean_squared_error: 6.0600\n",
            "Epoch 69/70\n",
            "124/124 [==============================] - 0s 4ms/step - loss: 36.8087 - mae: 4.5944 - root_mean_squared_error: 6.0670 - val_loss: 37.2325 - val_mae: 4.6382 - val_root_mean_squared_error: 6.1018\n",
            "Epoch 70/70\n",
            "124/124 [==============================] - 0s 4ms/step - loss: 36.7702 - mae: 4.5923 - root_mean_squared_error: 6.0638 - val_loss: 37.3941 - val_mae: 4.6571 - val_root_mean_squared_error: 6.1151\n"
          ]
        }
      ]
    },
    {
      "cell_type": "markdown",
      "metadata": {
        "id": "ID16zjArgBDE"
      },
      "source": [
        "# 모델 결과"
      ]
    },
    {
      "cell_type": "code",
      "metadata": {
        "id": "cSpvi18vdx_-"
      },
      "source": [
        "prediction = model.predict(train)"
      ],
      "execution_count": null,
      "outputs": []
    },
    {
      "cell_type": "code",
      "metadata": {
        "colab": {
          "base_uri": "https://localhost:8080/",
          "height": 283
        },
        "id": "jhbzYaKggGLP",
        "outputId": "f243f95a-e84d-4d8b-a151-d964c736c2b1"
      },
      "source": [
        "plt.plot(history.history['mae'])\n",
        "plt.plot(history.history['val_mae'])\n",
        "plt.plot(history.history['root_mean_squared_error'])\n",
        "plt.plot(history.history['val_root_mean_squared_error'])"
      ],
      "execution_count": null,
      "outputs": [
        {
          "output_type": "execute_result",
          "data": {
            "text/plain": [
              "[<matplotlib.lines.Line2D at 0x7f5228d7ffd0>]"
            ]
          },
          "metadata": {},
          "execution_count": 30
        },
        {
          "output_type": "display_data",
          "data": {
            "image/png": "[encoded data removed]",
            "text/plain": [
              "<Figure size 432x288 with 1 Axes>"
            ]
          },
          "metadata": {
            "needs_background": "light"
          }
        }
      ]
    },
    {
      "cell_type": "code",
      "metadata": {
        "colab": {
          "base_uri": "https://localhost:8080/",
          "height": 283
        },
        "id": "68TBLOxbgHZ0",
        "outputId": "12575b7b-fdb8-4787-88dc-778aebe213ea"
      },
      "source": [
        "plt.plot(history.history['mae'])\n",
        "plt.plot(history.history['val_mae'])\n"
      ],
      "execution_count": null,
      "outputs": [
        {
          "output_type": "execute_result",
          "data": {
            "text/plain": [
              "[<matplotlib.lines.Line2D at 0x7fe57a925f50>]"
            ]
          },
          "metadata": {},
          "execution_count": 59
        },
        {
          "output_type": "display_data",
          "data": {
            "image/png": "[encoded data removed]",
            "text/plain": [
              "<Figure size 432x288 with 1 Axes>"
            ]
          },
          "metadata": {
            "needs_background": "light"
          }
        }
      ]
    },
    {
      "cell_type": "code",
      "metadata": {
        "id": "rt-nSrt9gJa6"
      },
      "source": [
        "Prediction = pd.DataFrame(prediction)"
      ],
      "execution_count": null,
      "outputs": []
    },
    {
      "cell_type": "code",
      "metadata": {
        "id": "-fB0MfIEgLOT"
      },
      "source": [
        "PM06 = train.PM10*0.6"
      ],
      "execution_count": null,
      "outputs": []
    },
    {
      "cell_type": "code",
      "metadata": {
        "id": "Ha0GhhuTgaQ1"
      },
      "source": [
        "last = pd.concat([y,Prediction,PM06],axis=1)"
      ],
      "execution_count": null,
      "outputs": []
    },
    {
      "cell_type": "code",
      "metadata": {
        "id": "U9lrlaJEgbaZ"
      },
      "source": [
        "last.columns=['PM25','Prediction','PM10_06']"
      ],
      "execution_count": null,
      "outputs": []
    },
    {
      "cell_type": "code",
      "metadata": {
        "colab": {
          "base_uri": "https://localhost:8080/",
          "height": 142
        },
        "id": "7ejBBwcBgc69",
        "outputId": "4f641864-4814-40b3-a9ee-fc6561e7adee"
      },
      "source": [
        "last.corr()"
      ],
      "execution_count": null,
      "outputs": [
        {
          "output_type": "execute_result",
          "data": {
            "text/html": [
              "<div>\n",
              "<style scoped>\n",
              "    .dataframe tbody tr th:only-of-type {\n",
              "        vertical-align: middle;\n",
              "    }\n",
              "\n",
              "    .dataframe tbody tr th {\n",
              "        vertical-align: top;\n",
              "    }\n",
              "\n",
              "    .dataframe thead th {\n",
              "        text-align: right;\n",
              "    }\n",
              "</style>\n",
              "<table border=\"1\" class=\"dataframe\">\n",
              "  <thead>\n",
              "    <tr style=\"text-align: right;\">\n",
              "      <th></th>\n",
              "      <th>PM25</th>\n",
              "      <th>Prediction</th>\n",
              "      <th>PM10_06</th>\n",
              "    </tr>\n",
              "  </thead>\n",
              "  <tbody>\n",
              "    <tr>\n",
              "      <th>PM25</th>\n",
              "      <td>1.000000</td>\n",
              "      <td>0.888799</td>\n",
              "      <td>0.878702</td>\n",
              "    </tr>\n",
              "    <tr>\n",
              "      <th>Prediction</th>\n",
              "      <td>0.888799</td>\n",
              "      <td>1.000000</td>\n",
              "      <td>0.988128</td>\n",
              "    </tr>\n",
              "    <tr>\n",
              "      <th>PM10_06</th>\n",
              "      <td>0.878702</td>\n",
              "      <td>0.988128</td>\n",
              "      <td>1.000000</td>\n",
              "    </tr>\n",
              "  </tbody>\n",
              "</table>\n",
              "</div>"
            ],
            "text/plain": [
              "                PM25  Prediction   PM10_06\n",
              "PM25        1.000000    0.888799  0.878702\n",
              "Prediction  0.888799    1.000000  0.988128\n",
              "PM10_06     0.878702    0.988128  1.000000"
            ]
          },
          "metadata": {},
          "execution_count": 148
        }
      ]
    },
    {
      "cell_type": "code",
      "metadata": {
        "id": "0ndyvbUngf7T"
      },
      "source": [
        "last.to_csv('/content/drive/MyDrive/aaa.csv')"
      ],
      "execution_count": null,
      "outputs": []
    },
    {
      "cell_type": "code",
      "metadata": {
        "colab": {
          "base_uri": "https://localhost:8080/",
          "height": 419
        },
        "id": "cK4lvY1GtVJd",
        "outputId": "5ac7cc3c-ec0f-4c6f-e38f-b72fd9e91dc0"
      },
      "source": [
        "last"
      ],
      "execution_count": null,
      "outputs": [
        {
          "output_type": "execute_result",
          "data": {
            "text/html": [
              "<div>\n",
              "<style scoped>\n",
              "    .dataframe tbody tr th:only-of-type {\n",
              "        vertical-align: middle;\n",
              "    }\n",
              "\n",
              "    .dataframe tbody tr th {\n",
              "        vertical-align: top;\n",
              "    }\n",
              "\n",
              "    .dataframe thead th {\n",
              "        text-align: right;\n",
              "    }\n",
              "</style>\n",
              "<table border=\"1\" class=\"dataframe\">\n",
              "  <thead>\n",
              "    <tr style=\"text-align: right;\">\n",
              "      <th></th>\n",
              "      <th>PM25</th>\n",
              "      <th>Prediction</th>\n",
              "      <th>PM10_06</th>\n",
              "    </tr>\n",
              "  </thead>\n",
              "  <tbody>\n",
              "    <tr>\n",
              "      <th>0</th>\n",
              "      <td>26.0</td>\n",
              "      <td>32.822033</td>\n",
              "      <td>30.0</td>\n",
              "    </tr>\n",
              "    <tr>\n",
              "      <th>1</th>\n",
              "      <td>24.0</td>\n",
              "      <td>25.669462</td>\n",
              "      <td>25.2</td>\n",
              "    </tr>\n",
              "    <tr>\n",
              "      <th>2</th>\n",
              "      <td>19.0</td>\n",
              "      <td>20.519501</td>\n",
              "      <td>21.6</td>\n",
              "    </tr>\n",
              "    <tr>\n",
              "      <th>3</th>\n",
              "      <td>17.0</td>\n",
              "      <td>20.132963</td>\n",
              "      <td>20.4</td>\n",
              "    </tr>\n",
              "    <tr>\n",
              "      <th>4</th>\n",
              "      <td>18.0</td>\n",
              "      <td>21.621891</td>\n",
              "      <td>21.6</td>\n",
              "    </tr>\n",
              "    <tr>\n",
              "      <th>...</th>\n",
              "      <td>...</td>\n",
              "      <td>...</td>\n",
              "      <td>...</td>\n",
              "    </tr>\n",
              "    <tr>\n",
              "      <th>316951</th>\n",
              "      <td>9.0</td>\n",
              "      <td>11.130526</td>\n",
              "      <td>12.0</td>\n",
              "    </tr>\n",
              "    <tr>\n",
              "      <th>316952</th>\n",
              "      <td>10.0</td>\n",
              "      <td>10.824197</td>\n",
              "      <td>12.0</td>\n",
              "    </tr>\n",
              "    <tr>\n",
              "      <th>316953</th>\n",
              "      <td>8.0</td>\n",
              "      <td>8.986048</td>\n",
              "      <td>9.6</td>\n",
              "    </tr>\n",
              "    <tr>\n",
              "      <th>316954</th>\n",
              "      <td>12.0</td>\n",
              "      <td>8.084207</td>\n",
              "      <td>8.4</td>\n",
              "    </tr>\n",
              "    <tr>\n",
              "      <th>316955</th>\n",
              "      <td>8.0</td>\n",
              "      <td>8.552581</td>\n",
              "      <td>9.0</td>\n",
              "    </tr>\n",
              "  </tbody>\n",
              "</table>\n",
              "<p>316956 rows × 3 columns</p>\n",
              "</div>"
            ],
            "text/plain": [
              "        PM25  Prediction  PM10_06\n",
              "0       26.0   32.822033     30.0\n",
              "1       24.0   25.669462     25.2\n",
              "2       19.0   20.519501     21.6\n",
              "3       17.0   20.132963     20.4\n",
              "4       18.0   21.621891     21.6\n",
              "...      ...         ...      ...\n",
              "316951   9.0   11.130526     12.0\n",
              "316952  10.0   10.824197     12.0\n",
              "316953   8.0    8.986048      9.6\n",
              "316954  12.0    8.084207      8.4\n",
              "316955   8.0    8.552581      9.0\n",
              "\n",
              "[316956 rows x 3 columns]"
            ]
          },
          "metadata": {},
          "execution_count": 150
        }
      ]
    },
    {
      "cell_type": "markdown",
      "metadata": {
        "id": "G4rJfsWIqfs7"
      },
      "source": [
        "# Sampling"
      ]
    },
    {
      "cell_type": "code",
      "metadata": {
        "id": "FRzfQOjBpJmu"
      },
      "source": [
        "sample = last.sample(n = 700)"
      ],
      "execution_count": null,
      "outputs": []
    },
    {
      "cell_type": "code",
      "metadata": {
        "colab": {
          "base_uri": "https://localhost:8080/",
          "height": 142
        },
        "id": "aJhYhtktp_yW",
        "outputId": "10176f98-192b-4c59-82a7-33284e8c46b2"
      },
      "source": [
        "sample.corr()"
      ],
      "execution_count": null,
      "outputs": [
        {
          "output_type": "execute_result",
          "data": {
            "text/html": [
              "<div>\n",
              "<style scoped>\n",
              "    .dataframe tbody tr th:only-of-type {\n",
              "        vertical-align: middle;\n",
              "    }\n",
              "\n",
              "    .dataframe tbody tr th {\n",
              "        vertical-align: top;\n",
              "    }\n",
              "\n",
              "    .dataframe thead th {\n",
              "        text-align: right;\n",
              "    }\n",
              "</style>\n",
              "<table border=\"1\" class=\"dataframe\">\n",
              "  <thead>\n",
              "    <tr style=\"text-align: right;\">\n",
              "      <th></th>\n",
              "      <th>PM25</th>\n",
              "      <th>Prediction</th>\n",
              "      <th>PM10_06</th>\n",
              "    </tr>\n",
              "  </thead>\n",
              "  <tbody>\n",
              "    <tr>\n",
              "      <th>PM25</th>\n",
              "      <td>1.000000</td>\n",
              "      <td>0.885716</td>\n",
              "      <td>0.869555</td>\n",
              "    </tr>\n",
              "    <tr>\n",
              "      <th>Prediction</th>\n",
              "      <td>0.885716</td>\n",
              "      <td>1.000000</td>\n",
              "      <td>0.989162</td>\n",
              "    </tr>\n",
              "    <tr>\n",
              "      <th>PM10_06</th>\n",
              "      <td>0.869555</td>\n",
              "      <td>0.989162</td>\n",
              "      <td>1.000000</td>\n",
              "    </tr>\n",
              "  </tbody>\n",
              "</table>\n",
              "</div>"
            ],
            "text/plain": [
              "                PM25  Prediction   PM10_06\n",
              "PM25        1.000000    0.885716  0.869555\n",
              "Prediction  0.885716    1.000000  0.989162\n",
              "PM10_06     0.869555    0.989162  1.000000"
            ]
          },
          "metadata": {},
          "execution_count": 121
        }
      ]
    },
    {
      "cell_type": "code",
      "metadata": {
        "id": "zNCjoQD_ry1u"
      },
      "source": [
        "sample = sample.drop('PM10_06',axis=1)"
      ],
      "execution_count": null,
      "outputs": []
    },
    {
      "cell_type": "code",
      "metadata": {
        "colab": {
          "base_uri": "https://localhost:8080/",
          "height": 428
        },
        "id": "YJR4vvNEpZVc",
        "outputId": "d39f7157-e7d6-47a0-b323-0bbe404601df"
      },
      "source": [
        "print(sample.corr())\n",
        "sns.pairplot(sample,diag_kind='hist')\n",
        "plt.show()"
      ],
      "execution_count": null,
      "outputs": [
        {
          "output_type": "stream",
          "name": "stdout",
          "text": [
            "                PM25  Prediction\n",
            "PM25        1.000000    0.893612\n",
            "Prediction  0.893612    1.000000\n"
          ]
        },
        {
          "output_type": "display_data",
          "data": {
            "image/png": "[encoded data removed]",
            "text/plain": [
              "<Figure size 360x360 with 6 Axes>"
            ]
          },
          "metadata": {
            "needs_background": "light"
          }
        }
      ]
    },
    {
      "cell_type": "markdown",
      "metadata": {
        "id": "7SiUU28wIgwy"
      },
      "source": [
        "# 모델 저장"
      ]
    },
    {
      "cell_type": "code",
      "metadata": {
        "id": "9eB1PwXgJ26-"
      },
      "source": [
        "from tensorflow.python.keras.models import load_model\n",
        "model.save('/content/drive/MyDrive/mnist_mlp_model.h5')"
      ],
      "execution_count": null,
      "outputs": []
    },
    {
      "cell_type": "code",
      "metadata": {
        "id": "tsBGwWGJgVNV"
      },
      "source": [
        ""
      ],
      "execution_count": null,
      "outputs": []
    }
  ]
}